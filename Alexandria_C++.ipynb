{
 "cells": [
  {
   "cell_type": "markdown",
   "metadata": {},
   "source": [
    "# Alexandria_C++ #"
   ]
  },
  {
   "cell_type": "markdown",
   "metadata": {},
   "source": [
    "## C++ Output and Language Basics ##"
   ]
  },
  {
   "cell_type": "markdown",
   "metadata": {},
   "source": [
    "First Code Example\n",
    "The next cell contains the first example of code that might be included in a typical C++ program. Hover your cursor over each line of the code and then click play to hear an explanation, or have a look at the Review section below.\n"
   ]
  },
  {
   "cell_type": "markdown",
   "metadata": {},
   "source": [
    "```cpp\n",
    "#include <iostream>\n",
    "using std::cout;\n",
    "\n",
    "int main() {\n",
    "    cout << \"Hello!\" << \"\\n\" << \"hi\";   \n",
    "}\n",
    "```"
   ]
  },
  {
   "cell_type": "markdown",
   "metadata": {},
   "source": [
    "### Review ###\n",
    "#include <iostream>\n",
    "\n",
    "The #include is a preprocessor command which is executed before the code is compiled. It searches for the iostream header file and pastes its contents into the program. iostream contains the declarations for the input/output stream objects.\n",
    "using std::cout;\n",
    "\n",
    "Namespaces are a way in C++ to group identifiers (names) together. They provide context for identifiers to avoid naming collisions. The std namespace is the namespace used for the standard library.\n",
    "The using command adds std::cout to the global scope of the program. This way you can use cout in your code instead of having to write std::cout.\n",
    "cout is an output stream you will use to send output to the notebook or to a terminal, if you are using one.\n",
    "Note that the second two lines in the example end with a semicolon ;. Coding statements end with a semicolon in C++. The #include statement is a preprocessor command, so it doesn't need one.\n",
    "cout << \"Hello!\" << \"\\n\";\n",
    "\n",
    "In this line, the code is using cout to send output to the notebook. The << operator is the stream insertion operator, and it writes what's on the right side of the operator to the left side. So in this case, \"Message here\" is written to the output stream cout."
   ]
  },
  {
   "cell_type": "markdown",
   "metadata": {},
   "source": [
    "### Primitive Variable Types ###\n",
    "\n",
    "C++ has several \"primitive\" variable types, which are things like ints (integers), strings, floats, and others. These should be similar to variable types in other programming languages you have used."
   ]
  },
  {
   "cell_type": "markdown",
   "metadata": {},
   "source": [
    "Note: In the cells below, variables will be declared and values assigned. In C++, once a variable has been declared, it can not be redeclared in the same scope. This means that if you try to declare a variable twice in the same function, you will see an error."
   ]
  },
  {
   "cell_type": "markdown",
   "metadata": {},
   "source": [
    "```cpp\n",
    "#include <iostream>\n",
    "#include <string>\n",
    "using std::cout;\n",
    "\n",
    "int main() {\n",
    "    // Declaring and initializing an int variable.\n",
    "    int a = 9;\n",
    "    \n",
    "    // Declaring a string variable without initializing right away.\n",
    "    std::string b;\n",
    "    \n",
    "    // Initializing the string b.\n",
    "    b = \"Here is a string\";\n",
    "    \n",
    "    cout << a << \"\\n\";\n",
    "    cout << b << \"\\n\";\n",
    "}\n",
    "```"
   ]
  },
  {
   "cell_type": "markdown",
   "metadata": {},
   "source": [
    "### Vector Containers ###\n",
    "#### 1D Vectors ####\n",
    "C++ also has several container types that can be used for storing data. We will start with vectors, as these will be used throughout this lesson, but we will also introduce other container types as needed.\n",
    "\n",
    "Vectors are a sequence of elements of a single type, and have useful methods for getting the size, testing if the vector is empty, and adding elements to the vector."
   ]
  },
  {
   "cell_type": "markdown",
   "metadata": {},
   "source": [
    "```cpp\n",
    "#include <iostream>\n",
    "#include <vector>\n",
    "using std::vector;\n",
    "using std::cout;\n",
    "\n",
    "int main() {\n",
    "    // Three ways of declaring and initializing vectors.\n",
    "    vector<int> v_1{0, 1, 2};\n",
    "    vector<int> v_2 = {3, 4, 5};\n",
    "    vector<int> v_3;\n",
    "    v_3 = {6};\n",
    "    \n",
    "    cout <<v_1 <<\"\\n\";\n",
    "    cout <<v_2 <<\"\\n\";\n",
    "    cout <<v_3 <<\"\\n\";\n",
    "    cout << \"Everything worked!\" << \"\\n\";\n",
    "}\n",
    "```"
   ]
  },
  {
   "cell_type": "markdown",
   "metadata": {},
   "source": [
    "#### 2D Vectors ####\n",
    "Unfortunately, there isn't a built-in way to print vectors in C++ using cout. You will learn how to access vector elements and you will write your own function to print vectors later. For now, you can see how vectors are created and stored. Below, you can see how to nest vectors to create 2D containers."
   ]
  },
  {
   "cell_type": "markdown",
   "metadata": {},
   "source": [
    "```cpp\n",
    "#include <iostream>\n",
    "#include <vector>\n",
    "using std::vector;\n",
    "using std::cout;\n",
    "\n",
    "int main() {\n",
    "    // Creating a 2D vector.\n",
    "    vector<vector<int>> v {{1,2}, {3,4}};\n",
    "    cout << \"Great! A 2D vector has been created.\" << \"\\n\";\n",
    "}\n",
    "```"
   ]
  },
  {
   "cell_type": "markdown",
   "metadata": {},
   "source": [
    "#### 1D Vector Access ####\n",
    "\n",
    "To begin, it is helpful to know how to access vector elements of an existing vector. Execute the cells below to see how this can be done:"
   ]
  },
  {
   "cell_type": "markdown",
   "metadata": {},
   "source": [
    "```cpp\n",
    "#include <iostream>\n",
    "#include <vector>\n",
    "using std::vector;\n",
    "using std::cout;\n",
    "\n",
    "int main() {\n",
    "    vector<int> a = {0, 1, 2, 3, 4};\n",
    "    cout << a[0];\n",
    "    cout << a[1];\n",
    "    cout << a[2];\n",
    "    cout << \"\\n\";\n",
    "}\n",
    "```"
   ]
  },
  {
   "cell_type": "markdown",
   "metadata": {},
   "source": [
    "If you tried to access the elements of a using an out-of-bound index, you might have noticed that there is no error or exception thrown. If you haven't seen this already, try the following code in the cell above to see what happens:\n",
    "\n",
    "cout << a[10];\n",
    "\n",
    "In this case, the behavior is undefined, so you can not depend on a certain value to be returned. Be careful about this! In a later lesson where you will learn about exceptions, we will discuss other ways to access vector elements that don't fail silently with out-of-range indices."
   ]
  },
  {
   "cell_type": "markdown",
   "metadata": {},
   "source": [
    "#### 2D Vector Access ####\n",
    "\n",
    "In the previous exercise, you stored a 2D vector - a vector<vector<int>>. The syntax for accessing elements of a 2D vector is very similar to accessing in a 1D vector. In the second cell below, try accessing an element of b. If you get stuck, click the solution button for help."
   ]
  },
  {
   "cell_type": "markdown",
   "metadata": {},
   "source": [
    "```cpp\n",
    "#include <iostream>\n",
    "#include <vector>\n",
    "using std::vector;\n",
    "using std::cout;\n",
    "\n",
    "int main() {\n",
    "    vector<vector<int>> b = {{1, 1, 2, 3},\n",
    "                             {2, 1, 2, 3},\n",
    "                             {3, 1, 2, 3}};\n",
    "    cout << b[2][1];\n",
    "    cout << \"\\n\";\n",
    "}\n",
    "```"
   ]
  },
  {
   "cell_type": "markdown",
   "metadata": {},
   "source": [
    "### Getting a Vector's Length ###\n",
    "\n",
    "#### 1D Vector Length ####\n",
    "One method of a vector object that will be useful in the next code exercise is the .size() method. This returns the length of the vector. Execute the cell below to see how this can be used:"
   ]
  },
  {
   "cell_type": "markdown",
   "metadata": {},
   "source": [
    "```cpp\n",
    "#include <iostream>\n",
    "#include <vector>\n",
    "using std::vector;\n",
    "using std::cout;\n",
    "\n",
    "int main() {\n",
    "    vector<int> a = {0, 1, 2, 3, 4};\n",
    "    \n",
    "    // Print the length of vector a to the console.\n",
    "    cout << a.size() << \"\\n\";\n",
    "}\n",
    "```"
   ]
  },
  {
   "cell_type": "markdown",
   "metadata": {},
   "source": [
    "#### 2D Vector Length ####\n",
    "\n",
    "For the vector<vector<int>> b defined above, try to get the size of one of the inner vectors - this should be 4. If you have trouble, click the button below for some help."
   ]
  },
  {
   "cell_type": "markdown",
   "metadata": {},
   "source": [
    "```cpp\n",
    "#include <iostream>\n",
    "#include <vector>\n",
    "using std::vector;\n",
    "using std::cout;\n",
    "\n",
    "int main() {\n",
    "\n",
    "    vector<vector<int>> b = {{1, 1, 2, 3},\n",
    "                             {2, 1, 2, 3},\n",
    "                             {3, 1, 2, 3}};\n",
    "    // Print the length of an inner vector of b here.\n",
    "    cout << b[2].size() << \"n\";\n",
    "\n",
    "}\n",
    "```"
   ]
  },
  {
   "cell_type": "markdown",
   "metadata": {},
   "source": [
    "### Comments ###"
   ]
  },
  {
   "cell_type": "markdown",
   "metadata": {},
   "source": [
    "```cpp\n",
    "// You can use two forward slashes for single line comments.\n",
    "\n",
    "/*\n",
    "For longer comments, you can enclose the text with an opening\n",
    "slash-star and closing star-slash.\n",
    "*/ \n",
    "```"
   ]
  },
  {
   "cell_type": "markdown",
   "metadata": {},
   "source": [
    "### Using Auto ###\n",
    "\n",
    "In your previous code, the type for each variable was explicitly declared. In general, this is not necessary, and the compiler can determine the type based on the value being assigned. To have the type automatically determined, use the auto keyword. You can test this by executing the cell below:"
   ]
  },
  {
   "cell_type": "markdown",
   "metadata": {},
   "source": [
    "```cpp\n",
    "#include <iostream>\n",
    "#include <vector>\n",
    "using std::vector;\n",
    "using std::cout;\n",
    "\n",
    "int main() {\n",
    "    auto i = 5;\n",
    "    auto v_6 = {1, 2, 3};\n",
    "    cout << \"Variables declared and initialized without explicitly stating type!\" << \"\\n\";\n",
    "}\n",
    "```"
   ]
  },
  {
   "cell_type": "markdown",
   "metadata": {},
   "source": [
    "It is helpful to manually declare the type of a variable if you want the variable type to be clear for reader of your code, or if you want to be explicit about the number precision being used; C++ has several number types with different levels of precision, and this precision might not be clear from the value being assigned."
   ]
  },
  {
   "cell_type": "markdown",
   "metadata": {},
   "source": [
    "### For Loop with an Index Variable ###\n",
    "\n",
    "A simple for loop using an index variable has the following syntax. Click the button below for an explanation of the different parts."
   ]
  },
  {
   "cell_type": "markdown",
   "metadata": {},
   "source": [
    "```cpp\n",
    "#include <iostream>\n",
    "using std::cout;\n",
    "\n",
    "int main() {\n",
    "    for (int i=0; i < 5; i++) {\n",
    "      cout << i << \"\\n\";\n",
    "    }\n",
    "}\n",
    "```"
   ]
  },
  {
   "cell_type": "markdown",
   "metadata": {},
   "source": [
    "#### The Increment Operator ####\n",
    "\n",
    "If you haven't seen the ++ operator before, this is the post-increment operator, and it is where the ++ in the name \"C++\" comes from. The operator increments the value of i.\n",
    "\n",
    "There is also a pre-increment operator which is used before a variable, as well as pre and post decrement operators: --. The difference between pre and post lies in what value is returned by the operator when it is used.\n",
    "\n",
    "You will only use the post-increment operator i++ for now, but if you are curious, click below for an explanation of the code:"
   ]
  },
  {
   "cell_type": "markdown",
   "metadata": {},
   "source": [
    "```cpp\n",
    "#include <iostream>\n",
    "using std::cout;\n",
    "\n",
    "int main() {\n",
    "    auto i = 1;\n",
    "\n",
    "    // Post-increment assigns i to c and then increments i.\n",
    "    \n",
    "    auto c = i++;\n",
    "\n",
    "    cout << \"Post-increment example:\" << \"\\n\";\n",
    "    cout << \"The value of c is: \" << c << \"\\n\";\n",
    "    cout << \"The value of i is: \" << i << \"\\n\";\n",
    "    cout << \"\\n\";\n",
    "\n",
    "    // Reset i to 1.\n",
    "    i = 1;\n",
    "\n",
    "    // Pre-increment increments i, then assigns to c.\n",
    "    c = ++i;\n",
    "\n",
    "    cout << \"Pre-increment example:\" << \"\\n\";\n",
    "    cout << \"The value of c is: \" << c << \"\\n\";\n",
    "    cout << \"The value of i is: \" << i << \"\\n\";\n",
    "    cout << \"\\n\";\n",
    "\n",
    "    // Decrement i;\n",
    "    i--;\n",
    "    cout << \"Decrement example:\" << \"\\n\";\n",
    "    cout << \"The value of i is: \" << i << \"\\n\";\n",
    "}\n",
    "```"
   ]
  },
  {
   "cell_type": "markdown",
   "metadata": {},
   "source": [
    "#### For Loop with a Container ####\n",
    "\n",
    "C++ offers several ways to iterate over containers. One way is to use an index-based loop as above. Another way is using a \"range-based loop\", which you will see frequently in the rest of this course. See the following code for an example of how this works:"
   ]
  },
  {
   "cell_type": "markdown",
   "metadata": {},
   "source": [
    "```cpp\n",
    "#include <iostream>\n",
    "#include <vector>\n",
    "using std::cout;\n",
    "using std::vector;\n",
    "\n",
    "int main() {\n",
    "    \n",
    "    vector<int> a {1, 2, 3, 4, 5};\n",
    "    for (int i: a) {\n",
    "        cout << i << \"\\n\";\n",
    "    }\n",
    "}\n",
    "```\n",
    "\n",
    "---"
   ]
  },
  {
   "cell_type": "markdown",
   "metadata": {},
   "source": [
    "```cpp\n",
    "#include <iostream>\n",
    "#include <vector>\n",
    "using std::cout;\n",
    "using std::vector;\n",
    "\n",
    "int main() {\n",
    "    // Add your code here.\n",
    "    vector<vector<int>> b {{1, 2},\n",
    "                           {3, 4},\n",
    "                           {5, 6}};\n",
    "\n",
    "    // Write your double loop here.\n",
    "    for(auto v : b) {\n",
    "        for(int i : v) {\n",
    "            cout << i << \" \";\n",
    "        }\n",
    "        cout << \"\\n\";\n",
    "    }\n",
    "}\n",
    "```\n",
    "---"
   ]
  },
  {
   "cell_type": "markdown",
   "metadata": {},
   "source": [
    "### Functions ###\n",
    "\n",
    "In the cell below, there is a simple function to add two numbers and return the result. Test the code below, and click the button for a more in-depth explanation."
   ]
  },
  {
   "cell_type": "markdown",
   "metadata": {},
   "source": [
    "```cpp\n",
    "#include <iostream>\n",
    "using std::cout;\n",
    "\n",
    "// Function declared and defined here.\n",
    "int AdditionFunction(int i, int j) \n",
    "{\n",
    "    return i + j;\n",
    "}\n",
    "\n",
    "int main() \n",
    "{\n",
    "    auto d = 3;\n",
    "    auto f = 7;\n",
    "    cout << AdditionFunction(d, f) << \"\\n\";\n",
    "}\n",
    "```\n",
    "\n",
    "---"
   ]
  },
  {
   "cell_type": "markdown",
   "metadata": {},
   "source": [
    "```cpp\n",
    "#include <iostream>\n",
    "#include <vector>\n",
    "using std::cout;\n",
    "using std::vector;\n",
    "\n",
    "// Define a function \"AdditionFunction\" here.\n",
    "// Instead of just two ints, this function should accept a vector<int> \n",
    "// as the argument, and it should return the sum of all the ints in the vector.\n",
    "\n",
    "int AdditionFunction(vector<int> v)\n",
    "{\n",
    "    int sum = 0;\n",
    "    for(int i : v)\n",
    "        sum += i;\n",
    "    return sum;\n",
    "}\n",
    "\n",
    "int main() \n",
    "{\n",
    "    vector<int> v {1, 2, 3};\n",
    "    \n",
    "    // Uncomment the following line to call your function:\n",
    "    cout << AdditionFunction(v) << \"\\n\";\n",
    "}\n",
    "```\n",
    "---"
   ]
  },
  {
   "cell_type": "markdown",
   "metadata": {},
   "source": [
    "```cpp\n",
    "#include <iostream>\n",
    "#include <vector>\n",
    "using std::cout;\n",
    "using std::vector;\n",
    "\n",
    "// Define a function \"AdditionFunction\" here.\n",
    "// Instead of just two ints, this function should accept a vector<int> \n",
    "// as the argument, and it should return the sum of all the ints in the vector.\n",
    "int AdditionFunction(const vector<int> &v)\n",
    "{\n",
    "    int sum = 0;\n",
    "    for(int i = 0; i < v.size(); ++i)\n",
    "        sum += v[i];\n",
    "    return sum;\n",
    "}\n",
    "\n",
    "int main() \n",
    "{\n",
    "    vector<int> v {1, 2, 3};\n",
    "    \n",
    "    // Uncomment the following line to call your function:\n",
    "    cout << AdditionFunction(v) << \"\\n\";\n",
    "}\n",
    "```\n",
    "---"
   ]
  },
  {
   "cell_type": "markdown",
   "metadata": {},
   "source": [
    "```cpp\n",
    "#include <iostream>\n",
    "#include <vector>\n",
    "using std::cout;\n",
    "using std::vector;\n",
    "\n",
    "// Define a function \"AdditionFunction\" here.\n",
    "// Instead of just two ints, this function should accept a vector<int> \n",
    "// as the argument, and it should return the sum of all the ints in the vector.\n",
    "int AdditionFunction(const vector<int> &v)\n",
    "{\n",
    "    int sum = 0;\n",
    "    for(auto i = v.begin(); i != v.end(); ++i)\n",
    "        sum += *i;\n",
    "    return sum;\n",
    "}\n",
    "\n",
    "int main() \n",
    "{\n",
    "    vector<int> v {1, 2, 3};\n",
    "    \n",
    "    // Uncomment the following line to call your function:\n",
    "    cout << AdditionFunction(v) << \"\\n\";\n",
    "}\n",
    "```\n",
    "\n",
    "___"
   ]
  },
  {
   "cell_type": "markdown",
   "metadata": {},
   "source": [
    "```cpp\n",
    "#include <iostream>\n",
    "#include <vector>\n",
    "#include <numeric>\n",
    "using std::cout;\n",
    "using std::vector;\n",
    "\n",
    "// Define a function \"AdditionFunction\" here.\n",
    "// Instead of just two ints, this function should accept a vector<int> \n",
    "// as the argument, and it should return the sum of all the ints in the vector.\n",
    "int AdditionFunction(const vector<int> &v)\n",
    "{\n",
    "    return std::accumulate(v.begin(), v.end(), 0);\n",
    "}\n",
    "\n",
    "int main() \n",
    "{\n",
    "    vector<int> v {1, 2, 3};\n",
    "    \n",
    "    // Uncomment the following line to call your function:\n",
    "    cout << AdditionFunction(v) << \"\\n\";\n",
    "}\n",
    "```\n",
    "\n",
    "---"
   ]
  },
  {
   "cell_type": "markdown",
   "metadata": {},
   "source": [
    "#### Void Return Type ####\n",
    "\n",
    "Sometimes a function doesn't need to return anything. For example, a function might simply modify an object that is passed into it, or it might just print to the terminal. If a function doesn't need to return a value, the void type can be used for the return type. Using the function syntax provided above, write a function PrintStrings that takes two strings as arguments and prints both of them. If you are having trouble, click the solution button for help."
   ]
  },
  {
   "cell_type": "markdown",
   "metadata": {},
   "source": [
    "```cpp\n",
    "#include <iostream>\n",
    "#include <string>\n",
    "using std::cout;\n",
    "using std::string;\n",
    "\n",
    "// Write the PrintStrings function here.\n",
    "void PrintStrings(string a, string b)\n",
    "{\n",
    "    cout << a << \" \" << b << \"\\n\";\n",
    "}\n",
    "\n",
    "\n",
    "int main() {\n",
    "    string s1 = \"C++ is \";\n",
    "    string s2 = \"super awesome.\";\n",
    "    \n",
    "    // Uncomment the following line to call your function:\n",
    "    PrintStrings(s1, s2);\n",
    "}\n",
    "```"
   ]
  },
  {
   "cell_type": "markdown",
   "metadata": {},
   "source": [
    "#### Function to print 2D Vector ####"
   ]
  },
  {
   "cell_type": "markdown",
   "metadata": {},
   "source": [
    "```cpp\n",
    "#include <iostream>\n",
    "#include <vector>\n",
    "using std::cout;\n",
    "using std::vector;\n",
    "\n",
    "// TODO: Add PrintBoard function here.\n",
    " void PrintBoard(const vector<vector<int>> board){\n",
    "  for (int i = 0; i < board.size(); i++) {\n",
    "    for (int j = 0; j < board[i].size(); j++) {\n",
    "      cout << board[i][j];\n",
    "    }\n",
    "    cout << \"\\n\";\n",
    "  }\n",
    "}\n",
    "int main() {\n",
    "  vector<vector<int>> board{{0, 1, 0, 0, 0, 0},\n",
    "                            {0, 1, 0, 0, 0, 0},\n",
    "                            {0, 1, 0, 0, 0, 0},\n",
    "                            {0, 1, 0, 0, 0, 0},\n",
    "                            {0, 0, 0, 0, 1, 0}};\n",
    "}\n",
    "  // TODO: Call PrintBoard function here.\n",
    "  PrintBoard(board);\n",
    "```"
   ]
  },
  {
   "cell_type": "markdown",
   "metadata": {},
   "source": [
    "### If Statements ###\n",
    "\n",
    "C++ if statements work very similarly to if statements in other languages. In C++, the boolean condition is contained in parentheses ( and ), and the body of the statement is enclosed in curly brackets { and }.\n",
    "\n",
    "Try executing the cell below. Once you have done that, initialize the variable a to true and execute the cell again:"
   ]
  },
  {
   "cell_type": "markdown",
   "metadata": {},
   "source": [
    "```cpp\n",
    "#include <iostream>\n",
    "using std::cout;\n",
    "\n",
    "int main() \n",
    "{\n",
    "\n",
    "    // Set a equal to true here.\n",
    "    bool a = false;\n",
    "\n",
    "    if (a) {\n",
    "      cout << \"Hooray! You made it into the if statement!\" << \"\\n\";\n",
    "    }\n",
    "}\n",
    "```"
   ]
  },
  {
   "cell_type": "markdown",
   "metadata": {},
   "source": [
    "### While Loops ###\n",
    "\n",
    "The syntax for a while loop looks very similar to the syntax for the if statement:"
   ]
  },
  {
   "cell_type": "markdown",
   "metadata": {},
   "source": [
    "```cpp\n",
    "#include <iostream>\n",
    "using std::cout;\n",
    "\n",
    "int main() \n",
    "{\n",
    "    auto i = 0;\n",
    "\n",
    "    while (i < 5) {\n",
    "      cout << i << \"\\n\";\n",
    "      i++;\n",
    "    }\n",
    "}\n",
    "```"
   ]
  },
  {
   "cell_type": "markdown",
   "metadata": {},
   "source": [
    "#### Mod in While Loop ####"
   ]
  },
  {
   "cell_type": "markdown",
   "metadata": {},
   "source": [
    "In the following code cell, you will combine a while loop with an if statement to print every other number. Write a while loop to iterate over the integers from 1 to 10. If the integer is even, print it out.\n",
    "\n",
    "Hint: you can tell if an integer is even by looking at its remainder after dividing by two. In C++, the remainder operator is %. In other words, for a given int i, you have remainder = i % 2. If remainder equals 0, the number is even."
   ]
  },
  {
   "cell_type": "markdown",
   "metadata": {},
   "source": [
    "```cpp\n",
    "#include <iostream>\n",
    "using std::cout;\n",
    "\n",
    "int main() \n",
    "{\n",
    "    // Write your code here.\n",
    "    int i = 1;\n",
    "    while(i <= 10) {\n",
    "        if(i % 2 == 0) {\n",
    "            cout << i << \"\\n\";\n",
    "        }\n",
    "        i++;\n",
    "    }\n",
    "}\n",
    "```"
   ]
  },
  {
   "cell_type": "markdown",
   "metadata": {},
   "source": [
    "### File Input Streams ###\n",
    "\n",
    "#### Creating an Input Stream Object ####\n",
    "\n",
    "In C++, you can use the std::ifstream object to handle input file streams. To do this, you will need to include the header file that provides the file streaming classes: fstream.\n",
    "    \n",
    "    \n",
    "    Once the fstream header is included, a new input stream object can be declared and initialized using a file path path:\n",
    "\n",
    "std::ifstream my_file;\n",
    "my_file.open(path);\n",
    "Alternatively, the declaration and initialization can be done in a single line as follows:\n",
    "\n",
    "std::ifstream my_file(path);\n",
    "C++ ifstream objects can also be used as a boolean to check if the stream has been created successfully. If the stream were to initialize successfully, then the ifstream object would evaluate to true. If there were to be an error opening the file or some other error creating the stream, then the ifstream object would evaluate to false.\n",
    "\n",
    "The following cell creates an input stream from the file \"files/1.board\":"
   ]
  },
  {
   "cell_type": "markdown",
   "metadata": {},
   "source": [
    "```cpp\n",
    "#include <fstream>\n",
    "#include <iostream>\n",
    "#include <string>\n",
    "\n",
    "int main()\n",
    "{\n",
    "    std::ifstream my_file;\n",
    "    my_file.open(\"files/1.board\");\n",
    "    if (my_file) {\n",
    "      std::cout << \"The file stream has been created!\" << \"\\n\";\n",
    "    }    \n",
    "}\n",
    "```"
   ]
  },
  {
   "cell_type": "markdown",
   "metadata": {},
   "source": [
    "#### Reading Data from the Stream ####\n",
    "\n",
    "If the input file stream object has been successfully created, the lines of the input stream can be read using the getline method. In the cell below, a while loop has been added to the previous example to get each line from the stream and print it to the console."
   ]
  },
  {
   "cell_type": "markdown",
   "metadata": {},
   "source": [
    "```cpp\n",
    "#include <fstream>\n",
    "#include <iostream>\n",
    "#include <string>\n",
    "\n",
    "int main() {\n",
    "    std::ifstream my_file;\n",
    "    my_file.open(\"files/1.board\");\n",
    "    if (my_file) {\n",
    "        std::cout << \"The file stream has been created!\" << \"\\n\";\n",
    "        std::string line;\n",
    "        while (getline(my_file, line)) {\n",
    "            std::cout << line << \"\\n\";\n",
    "        }\n",
    "    }\n",
    "}\n",
    "```"
   ]
  },
  {
   "cell_type": "markdown",
   "metadata": {},
   "source": [
    "Recap\n",
    "That's it! To recap, there are essentially four steps to reading a file:\n",
    "\n",
    "1. #include fstream\n",
    "2. Create a std::ifstream object using the path to your file.\n",
    "3. Evaluate the std::ifstream object as a bool to ensure that the stream creation did not fail.\n",
    "4. Use a while loop with getline to write file lines to a string."
   ]
  },
  {
   "cell_type": "markdown",
   "metadata": {},
   "source": [
    "#### Function to Read from a file ####"
   ]
  },
  {
   "cell_type": "markdown",
   "metadata": {},
   "source": [
    "```cpp\n",
    "#include <fstream>\n",
    "#include <iostream>\n",
    "#include <string>\n",
    "#include <vector>\n",
    "using std::cout;\n",
    "using std::ifstream;\n",
    "using std::string;\n",
    "using std::vector;\n",
    "\n",
    "\n",
    "void Read_from_File(string path) {\n",
    "  ifstream myfile (path);\n",
    "  if (myfile) {\n",
    "    string line;\n",
    "    while (getline(myfile, line)) {\n",
    "      cout << line << \"\\n\";\n",
    "    }\n",
    "  }\n",
    "}\n",
    "\n",
    "Read_From_File(\"test.txt\");\n",
    "```"
   ]
  },
  {
   "cell_type": "markdown",
   "metadata": {},
   "source": [
    "### Streaming ints from a string with istringstream ###\n",
    "\n",
    "In C++ strings can be streamed into temporary variables, similarly to how files can be streamed into strings. Streaming a string allows us to work with each character individually.\n",
    "\n",
    "One way to stream a string is to use an input string stream object istringstream from the sstream header.\n",
    "\n",
    "Once an istringstream object has been created, parts of the string can be streamed and stored using the \"extraction operator\": >>. The extraction operator will read until whitespace is reached or until the stream fails. Execute the following code to see how this works:"
   ]
  },
  {
   "cell_type": "markdown",
   "metadata": {},
   "source": [
    "```cpp\n",
    "#include <iostream>\n",
    "#include <sstream>\n",
    "#include <string>\n",
    "\n",
    "using std::istringstream;\n",
    "using std::string;\n",
    "using std::cout;\n",
    "\n",
    "int main () \n",
    "{\n",
    "    string a(\"199 2 3\");\n",
    "\n",
    "    istringstream my_stream(a);\n",
    "\n",
    "    int n;\n",
    "    my_stream >> n;\n",
    "    cout << n << \"\\n\";\n",
    "}\n",
    "```"
   ]
  },
  {
   "cell_type": "markdown",
   "metadata": {},
   "source": [
    "The istringstream object can also be used as a boolean to determine if the last extraction operation failed - this happens if there wasn't any more of the string to stream, for example. If the stream still has more characters, you are able to stream again. See the following code for an example of using the istringstream this way:"
   ]
  },
  {
   "cell_type": "markdown",
   "metadata": {},
   "source": [
    "```cpp\n",
    "#include <iostream>\n",
    "#include <sstream>\n",
    "#include <string>\n",
    "\n",
    "using std::istringstream;\n",
    "using std::string;\n",
    "using std::cout;\n",
    "\n",
    "int main() \n",
    "{\n",
    "    string a(\"1 2 3\");\n",
    "\n",
    "    istringstream my_stream(a);\n",
    "\n",
    "    int n;\n",
    "    \n",
    "    // Testing to see if the stream was successful and printing results.\n",
    "    while (my_stream) {\n",
    "        my_stream >> n;\n",
    "        if (my_stream) {\n",
    "            cout << \"That stream was successful: \" << n << \"\\n\";\n",
    "        }\n",
    "        else {\n",
    "            cout << \"That stream was NOT successful!\" << \"\\n\";            \n",
    "        }\n",
    "    }\n",
    "}\n",
    "```"
   ]
  },
  {
   "cell_type": "markdown",
   "metadata": {},
   "source": [
    "The extraction operator >> writes the stream to the variable on the right of the operator and returns the istringstream object, so the entire expression my_stream >> n is an istringstream object and can be used as a boolean! Because of this, a common way to use istringstream is to use the entire extraction expression in a while loop as follows:"
   ]
  },
  {
   "cell_type": "markdown",
   "metadata": {},
   "source": [
    "```cpp\n",
    "#include <iostream>\n",
    "#include <sstream>\n",
    "#include <string>\n",
    "\n",
    "using std::istringstream;\n",
    "using std::string;\n",
    "using std::cout;\n",
    "\n",
    "int main () {\n",
    "    string a(\"1 2 3\");\n",
    "\n",
    "    istringstream my_stream(a);\n",
    "    \n",
    "    int n;\n",
    "    \n",
    "    while (my_stream >> n) {\n",
    "      cout << \"That stream was successful: \" << n << \"\\n\";\n",
    "    }\n",
    "    cout << \"The stream has failed.\" << \"\\n\";\n",
    "    \n",
    "}\n",
    "```"
   ]
  },
  {
   "cell_type": "markdown",
   "metadata": {},
   "source": [
    "#### Strings with Mixed Types ####\n",
    " \n",
    "In the stream example above, the string contained only whitespaces and characters which could be converted to ints. If the string has mixed types, more care is needed to process the string. In the following example, the type char is used, which is a type that can hold only a single ASCII character."
   ]
  },
  {
   "cell_type": "markdown",
   "metadata": {},
   "source": [
    "```cpp\n",
    "#include <iostream>\n",
    "#include <sstream>\n",
    "#include <string>\n",
    "\n",
    "using std::istringstream;\n",
    "using std::string;\n",
    "using std::cout;\n",
    "\n",
    "int main() \n",
    "{\n",
    "    string b(\"1,2,3\");\n",
    "\n",
    "    istringstream my_stream(b);\n",
    "\n",
    "    char c;\n",
    "    int n;\n",
    "\n",
    "    while (my_stream >> n >> c) {\n",
    "      cout << \"That stream was successful:\" << n << \" \" << c << \"\\n\";\n",
    "    }\n",
    "    cout << \"The stream has failed.\" << \"\\n\";\n",
    "}\n",
    "```"
   ]
  },
  {
   "cell_type": "markdown",
   "metadata": {},
   "source": [
    "In that example, notice that the 3 was not printed! The expression:\n",
    "\n",
    "my_stream >> n >> c\n",
    "tried to stream an int followed by a char. Since there was no char after the 3, the stream failed and the while loop exited."
   ]
  },
  {
   "cell_type": "markdown",
   "metadata": {},
   "source": [
    "### Adding Data to a Vector ###\n",
    "\n",
    "#### Vector push_back ####\n",
    "\n",
    "Now that you are able to process a string, you may want to store the results of the processing in a convenient container for later use. In the next exercise, you will store the streamed ints from each line of the board in a vector int . To do this, you will add the ints to the back of the vector, using the vector method push_back:"
   ]
  },
  {
   "cell_type": "markdown",
   "metadata": {},
   "source": [
    "```cpp\n",
    "#include <vector>\n",
    "#include <iostream>\n",
    "using std::vector;\n",
    "using std::cout;\n",
    "\n",
    "int main() {\n",
    "    // Initial Vector\n",
    "    vector v {1, 2, 3};\n",
    "    \n",
    "    // Print the contents of the vector\n",
    "    for (int i=0; i < v.size(); i++) {\n",
    "      cout << v[i] << \"\\n\";\n",
    "    }\n",
    "    \n",
    "    // Push 4 to the back of the vector\n",
    "    v.push_back(4);\n",
    "\n",
    "    // Print the contents again\n",
    "    for (int i=0; i < v.size(); i++) {\n",
    "      cout << v[i] << \"\\n\";\n",
    "    }\n",
    "    \n",
    "}\n",
    "```"
   ]
  },
  {
   "cell_type": "markdown",
   "metadata": {},
   "source": [
    "The 4 has been added to the end of the vector!"
   ]
  },
  {
   "cell_type": "markdown",
   "metadata": {},
   "source": [
    "#### String to Vector ####"
   ]
  },
  {
   "cell_type": "markdown",
   "metadata": {},
   "source": [
    "```cpp\n",
    "#include <fstream>\n",
    "#include <iostream>\n",
    "#include <sstream>\n",
    "#include <string>\n",
    "#include <vector>\n",
    "using std::cout;\n",
    "using std::ifstream;\n",
    "using std::istringstream;\n",
    "using std::string;\n",
    "using std::vector;\n",
    "\n",
    "\n",
    "vector<int> ParseLine(string line) {\n",
    "    istringstream sline(line);\n",
    "    int n;\n",
    "    char c;\n",
    "    vector<int> row;\n",
    "    while (sline >> n >> c && c == ',') {\n",
    "      row.push_back(n);\n",
    "    }\n",
    "    return row;\n",
    "}\n",
    "```"
   ]
  },
  {
   "cell_type": "markdown",
   "metadata": {},
   "source": [
    "#### Print 2D Vector ####"
   ]
  },
  {
   "cell_type": "markdown",
   "metadata": {},
   "source": [
    "```cpp\n",
    "#include <fstream>\n",
    "#include <iostream>\n",
    "#include <string>\n",
    "#include <sstream>\n",
    "#include <vector>\n",
    "using std::cout;\n",
    "using std::ifstream;\n",
    "using std::istringstream;\n",
    "using std::string;\n",
    "using std::vector;\n",
    "\n",
    "vector<int> ParseLine(string line) {\n",
    "    istringstream sline(line);\n",
    "    int n;\n",
    "    char c;\n",
    "    vector<int> row;\n",
    "    while (sline >> n >> c && c == ',') {\n",
    "      row.push_back(n);\n",
    "    }\n",
    "    return row;\n",
    "}\n",
    "```"
   ]
  },
  {
   "cell_type": "markdown",
   "metadata": {},
   "source": [
    "### Enums (Enumerator) ###"
   ]
  },
  {
   "cell_type": "markdown",
   "metadata": {},
   "source": [
    "C++ allows you to define a custom type which has values limited to a specific range you list or \"enumerate\". This custom type is called an \"enum\".\n",
    "\n",
    "Suppose you were writing a program that stores information about each user's car, including the color. You could define a Color enum in your program, with a fixed range of all the acceptable values:\n",
    "\n",
    "- white\n",
    "- black\n",
    "- blue\n",
    "- red\n",
    "\n",
    "This way, you can be sure that each color is restricted to the acceptable set of values.\n",
    "\n",
    "Here is an example:"
   ]
  },
  {
   "cell_type": "markdown",
   "metadata": {},
   "source": [
    "```cpp\n",
    "#include <iostream>\n",
    "using std::cout;\n",
    "\n",
    "int main() \n",
    "{\n",
    "    // Create the enum Color with fixed values.\n",
    "    enum class Color {white, black, blue, red};\n",
    "\n",
    "    // Create a Color variable and set it to Color::blue.\n",
    "    Color my_color = Color::blue;\n",
    "\n",
    "    // Test to see if my car is red.\n",
    "    if (my_color == Color::red) {\n",
    "        cout << \"The color of my car is red!\" << \"\\n\";\n",
    "    } else {\n",
    "        cout << \"The color of my car is not red.\" << \"\\n\";\n",
    "    }\n",
    "}\n",
    "```"
   ]
  },
  {
   "cell_type": "markdown",
   "metadata": {},
   "source": [
    "Note: In the example above, the keyword enum is followed by the keyword class and then the class name Color. This creates what are called \"scoped\" enums. It is also possible, but not advisable, to omit the class keyword and thus create \"unscoped\" enums. More information is available at cppreference.com."
   ]
  },
  {
   "cell_type": "markdown",
   "metadata": {},
   "source": [
    "#### Example with a switch ####\n",
    "\n",
    "Below is another example of an enum being used. Here, a custom type Direction is created with four possible values: kUp, kDown, kLeft, kRight. One of these values is then stored in a variable and used in the switch statement."
   ]
  },
  {
   "cell_type": "markdown",
   "metadata": {},
   "source": [
    "```cpp\n",
    "int main()\n",
    "{\n",
    "    enum class Direction {kUp, kDown, kLeft, kRight};\n",
    "\n",
    "    Direction a = Direction::kRight;\n",
    "\n",
    "    switch (a) {\n",
    "      case Direction::kUp : cout << \"Going up!\" << \"\\n\";\n",
    "        break;\n",
    "      case Direction::kDown : cout << \"Going down!\" << \"\\n\";\n",
    "        break;\n",
    "      case Direction::kLeft : cout << \"Going left!\" << \"\\n\";\n",
    "        break;\n",
    "//       case Direction::kRight : cout << \"Going right!\" << \"\\n\";\n",
    "//         break;\n",
    "      default:\n",
    "            cout << \"This is default test\" << \"\\n\";\n",
    "            \n",
    "    }\n",
    "}\n",
    "```"
   ]
  },
  {
   "cell_type": "markdown",
   "metadata": {},
   "source": [
    "## A* Search ##"
   ]
  },
  {
   "cell_type": "markdown",
   "metadata": {},
   "source": [
    "https://www.youtube.com/watch?v=lxCCtgHk5Vs&feature=emb_logo\n",
    "\n",
    "The A* algorithm finds a path from the start node to the end node by checking for open neighbors of the current node, computing a heuristic for each of the neighbors, and adding those neighbors to the list of open nodes to explore next. The next node to explore is the one with the lowest total cost + heuristic (g + h). This process is repeated until the end is found, as long as there are still open nodes to explore."
   ]
  },
  {
   "cell_type": "markdown",
   "metadata": {},
   "source": [
    "### Pass by Reference ###\n",
    "\n",
    "#### Passing Values ####\n",
    "\n",
    "In the following example, the value of int i is passed to the function MultiplyByTwo. "
   ]
  },
  {
   "cell_type": "markdown",
   "metadata": {},
   "source": [
    "```cpp\n",
    "#include <iostream>\n",
    "using std::cout;\n",
    "\n",
    "\n",
    "int MultiplyByTwo(int i) {\n",
    "    i = 2*i;\n",
    "    return i;\n",
    "}\n",
    "\n",
    "int main() {\n",
    "    int a = 5;\n",
    "    cout << \"The int a equals: \" << a << \"\\n\";\n",
    "    int b = MultiplyByTwo(a);\n",
    "    cout << \"The int b equals: \" << b << \"\\n\";\n",
    "    cout << \"The int a still equals: \" << a << \"\\n\";\n",
    "}\n",
    "```"
   ]
  },
  {
   "cell_type": "markdown",
   "metadata": {},
   "source": [
    "In the code above, a is passed by value to the function, so the variable a is not affected by what happens inside the function."
   ]
  },
  {
   "cell_type": "markdown",
   "metadata": {},
   "source": [
    "#### Passing References ####\n",
    "\n",
    "But what if we wanted to change the value of a itself? For example, it might be that the variable you are passing into a function maintains some state in the program, and you want to write the function to update that state.\n",
    "\n",
    "It turns out, it is possible to modify a from within the function. To do this, you must pass a reference to the variable a, instead of the value of a. In C++, a reference is just an alternative name for the same variable.\n",
    "\n",
    "To pass by reference, you simply need to add an ampersand \"&\" before the variable in the function declaration. Try the code below to see how this works:"
   ]
  },
  {
   "cell_type": "markdown",
   "metadata": {},
   "source": [
    "```cpp\n",
    "#include <iostream>\n",
    "using std::cout;\n",
    "\n",
    "\n",
    "int MultiplyByTwo(int &i) {\n",
    "    i = 2*i;\n",
    "    return i;\n",
    "}\n",
    "\n",
    "int main() {\n",
    "    int a = 5;\n",
    "    cout << \"The int a equals: \" << a << \"\\n\";\n",
    "    int b = MultiplyByTwo(a);\n",
    "    cout << \"The int b equals: \" << b << \"\\n\";\n",
    "    cout << \"The int a now equals: \" << a << \"\\n\";\n",
    "}\n",
    "```"
   ]
  },
  {
   "cell_type": "markdown",
   "metadata": {},
   "source": [
    "In the code above, a is passed by reference to the function MultiplyByTwo since the argument to MultiplyByTwo is a reference: &i. This means that i is becomes another name for whatever variable that is passed into the function. When the function changes the value of i, then the value of a is changed as well."
   ]
  },
  {
   "cell_type": "markdown",
   "metadata": {},
   "source": [
    "### Constants ### \n",
    "\n",
    "C++ supports two notions of immutability:\n",
    "\n",
    "- const: meaning roughly \" I promise not to change this value.\"...The compiler enforces the promise made by const....\n",
    "- constexpr: meaning roughly \"to be evaluated at compile time.\" This is used primarily to specify constants...\n",
    "\n",
    "This example highlights how to use const to promise not to modify a variable, even though the variable can only be evaluated at run time. The example also show how to use constexpr to guarantee that a variable can be evaluated at compile time."
   ]
  },
  {
   "cell_type": "markdown",
   "metadata": {},
   "source": [
    "```cpp\n",
    "#include <iostream>\n",
    "\n",
    "int main()\n",
    "{\n",
    "    int i;\n",
    "    std::cout << \"Enter an integer value for i: \";\n",
    "    std::cin >> i;\n",
    "    const int j = i * 2;  // \"j can only be evaluated at run time.\"\n",
    "                          // \"But I promise not to change it after it is initialized.\"\n",
    "    \n",
    "    constexpr int k = 3;  // \"k, in contrast, can be evaluated at compile time.\"\n",
    "    \n",
    "    std::cout << \"j = \" << j << \"\\n\";\n",
    "    std::cout << \"k = \" << k << \"\\n\";\n",
    "}\n",
    "```"
   ]
  },
  {
   "cell_type": "markdown",
   "metadata": {},
   "source": [
    "The compiler will catch a const variable that changes."
   ]
  },
  {
   "cell_type": "markdown",
   "metadata": {},
   "source": [
    "```cpp\n",
    "int main()\n",
    "{\n",
    "    const int i = 2; // \"I promise not to change this.\"\n",
    "    i++;             // \"I just broke my promise.\"\n",
    "}\n",
    "```"
   ]
  },
  {
   "cell_type": "markdown",
   "metadata": {},
   "source": [
    "Similarly, the compiler will catch a constexpr variable that changes."
   ]
  },
  {
   "cell_type": "markdown",
   "metadata": {},
   "source": [
    "```cpp\n",
    "int main()\n",
    "{\n",
    "    constexpr int i = 2;  // \"i can be evaluated at compile time.\"\n",
    "    i++;                  // \"But changing a constexpr variable triggers an error.\"\n",
    "}\n",
    "```"
   ]
  },
  {
   "cell_type": "markdown",
   "metadata": {},
   "source": [
    "The major difference between const and constexpr, though, is that constexpr must be evaluated at compile time.\n",
    "\n",
    "The compiler will catch a constexpr variable that cannot be evaluated at compile time."
   ]
  },
  {
   "cell_type": "markdown",
   "metadata": {},
   "source": [
    "```cpp\n",
    "#include <iostream>\n",
    "\n",
    "int main()\n",
    "{\n",
    "    int i;\n",
    "    std::cout << \"Enter an integer value for i: \";\n",
    "    std::cin >> i;\n",
    "    constexpr int j = i * 2;  // \"j can only be evaluated at run time.\"\n",
    "                              // \"constexpr must be evaluated at compile time.\"\n",
    "                              // \"So this code will produce a compilation error.\"\n",
    "}\n",
    "```"
   ]
  },
  {
   "cell_type": "markdown",
   "metadata": {},
   "source": [
    "A common usage of const is to guard against accidentally changing a variable, especially when it is passed-by-reference as a function argument."
   ]
  },
  {
   "cell_type": "markdown",
   "metadata": {},
   "source": [
    "```cpp\n",
    "#include <iostream>\n",
    "#include <vector>\n",
    "\n",
    "int sum(const std::vector<int> &v)\n",
    "{\n",
    "    int sum = 0;\n",
    "    for(int i : v)\n",
    "        sum += i;\n",
    "    return sum;\n",
    "}\n",
    "\n",
    "int main()\n",
    "{\n",
    "    std::vector<int> v {0, 1, 2, 3, 4};\n",
    "    std::cout << sum(v) << \"\\n\";\n",
    "}\n",
    "```"
   ]
  },
  {
   "cell_type": "markdown",
   "metadata": {},
   "source": [
    "The distinction between const and constexpr is subtle.\n",
    "\n",
    "In general, though, const is much more common than constexpr.\n",
    "\n",
    "When in doubt, use const, especially to guard against accidentally modifying a variable."
   ]
  },
  {
   "cell_type": "markdown",
   "metadata": {},
   "source": [
    "### Arrays ###\n",
    "\n",
    "Arrays are a lower level data structure than vectors, and can be slightly more efficient, in terms of memory and element access. However, this efficiency comes with a price. Unlike vectors, which can be extended with more elements, arrays have a fixed length. Additionally, arrays may require careful memory management, depending how they are used."
   ]
  },
  {
   "cell_type": "markdown",
   "metadata": {},
   "source": [
    "## Writing Multifile Programs ##"
   ]
  },
  {
   "cell_type": "markdown",
   "metadata": {},
   "source": [
    "### Header Files ###\n",
    "\n",
    "Header files, or .h files, allow related function, method, and class declarations to be collected in one place. The corresponding definitions can then be placed in .cpp files. The compiler considers a header declaration a \"promise\" that the definition will be found later in the code, so if the compiler reaches a function that hasn't been defined yet, it can continue on compiling until the definition is found. This allows functions to be defined (and declared) in arbitrary order.\n",
    "\n",
    "A function declaration is much like the first line of a function definition - it contains the return type, function name, and input variable types. The details of the function definition are not needed for the declaration though.\n",
    "\n",
    "To avoid a single file from becomming cluttered with declarations and definitions for every function, it is customary to declare the functions in another file, called the header file. In C++, the header file will have filetype .h, and the contents of the header file must be included at the top of the .cpp file. See the following example for a refactoring of the code above into a header and a cpp file."
   ]
  },
  {
   "cell_type": "markdown",
   "metadata": {},
   "source": [
    "```cpp\n",
    "// The header file with just the function declarations.\n",
    "// When you click the \"Run Code\" button, this file will\n",
    "// be saved as header_example.h.\n",
    "#ifndef HEADER_EXAMPLE_H\n",
    "#define HEADER_EXAMPLE_H\n",
    "\n",
    "void OuterFunction(int);\n",
    "void InnerFunction(int);\n",
    "\n",
    "#endif\n",
    "```\n",
    "\n",
    "---"
   ]
  },
  {
   "cell_type": "markdown",
   "metadata": {},
   "source": [
    "```cpp\n",
    "// The contents of header_example.h are included in \n",
    "// the corresponding .cpp file using quotes:\n",
    "#include \"header_example.h\"\n",
    "\n",
    "#include <iostream>\n",
    "using std::cout;\n",
    "\n",
    "void OuterFunction(int i) \n",
    "{\n",
    "    InnerFunction(i);\n",
    "}\n",
    "\n",
    "void InnerFunction(int i) \n",
    "{\n",
    "    cout << \"The value of the integer is: \" << i << \"\\n\";\n",
    "}\n",
    "\n",
    "int main() \n",
    "{\n",
    "    int a = 5;\n",
    "    OuterFunction(a);\n",
    "}\n",
    "```\n",
    "\n",
    "---"
   ]
  },
  {
   "cell_type": "markdown",
   "metadata": {},
   "source": [
    "Notice that the code was fixed without having to rearrange the functions! In the code above, you might also have noticed several other things:\n",
    "\n",
    "The function declarations in the header file don't need variable names, just variable types. You can put names in the declaration, however, and doing this often makes the code easier to read.\n",
    "The #include statement for the header used quotes \" \" around the file name, and not angle brackets <>. We have stored the header in the same directory as the .cpp file, and the quotes tell the preprocessor to look for the file in the same directory as the current file - not in the usual set of directories where libraries are typically stored.\n",
    "Finally, there is a preprocessor directive:\n",
    "#ifndef HEADER_EXAMPLE_H\n",
    "#define HEADER_EXAMPLE_H\n",
    "at the top of the header, along with an #endif at the end. This is called an \"include guard\". Since the header will be included into another file, and #include just pastes contents into a file, the include guard prevents the same file from being pasted multiple times into another file. This might happen if multiple files include the same header, and then are all included into the same main.cpp, for example. The ifndef checks if HEADER_EXAMPLE_H has not been defined in the file already. If it has not been defined yet, then it is defined with #define HEADER_EXAMPLE_H, and the rest of the header is used. If HEADER_EXAMPLE_H has already been defined, then the preprocessor does not enter the ifndef block. Note: There are other ways to do this. Another common way is to use an #pragma oncepreprocessor directive, but we won't cover that in detail here. See this Wikipedia article for examples."
   ]
  },
  {
   "cell_type": "markdown",
   "metadata": {},
   "source": [
    "#### Multi-file Code ####\n",
    "\n",
    "In the next few cells these functions have been separated into several different files. The structure of the included files is as follows:\n",
    "\n",
    "> vect_add_one --> increment_and_sum -->main\n",
    "\n",
    "__Vect_add_one.h and vect_add_one.cpp__"
   ]
  },
  {
   "cell_type": "markdown",
   "metadata": {},
   "source": [
    "```cpp\n",
    "#ifndef VECT_ADD_ONE_H\n",
    "#define VECT_ADD_ONE_H\n",
    "\n",
    "#include <vector>\n",
    "using std::vector;\n",
    "\n",
    "// AddOneToEach method declaration.\n",
    "void AddOneToEach(vector<int> &v);\n",
    "\n",
    "#endif\n",
    "```\n",
    "---"
   ]
  },
  {
   "cell_type": "markdown",
   "metadata": {},
   "source": [
    "```cpp\n",
    "#include \"vect_add_one.h\"\n",
    "\n",
    "void AddOneToEach(vector<int> &v) \n",
    "{\n",
    "    for (auto& i: v) {\n",
    "        i++;\n",
    "    }\n",
    "}\n",
    "```"
   ]
  },
  {
   "cell_type": "markdown",
   "metadata": {},
   "source": [
    "__Increment_and_sum.h and increment_and_sum.cpp__"
   ]
  },
  {
   "cell_type": "markdown",
   "metadata": {},
   "source": [
    "```cpp\n",
    "#ifndef INCREMENT_AND_SUM_H\n",
    "#define INCREMENT_AND_SUM_H\n",
    "\n",
    "#include <vector>\n",
    "using std::vector;\n",
    "\n",
    "// IncrementAndComputeVectorSum method declaration.\n",
    "int IncrementAndComputeVectorSum(vector<int> v);\n",
    "\n",
    "#endif\n",
    "```\n",
    "---"
   ]
  },
  {
   "cell_type": "markdown",
   "metadata": {},
   "source": [
    "```cpp\n",
    "#include \"vect_add_one.h\"\n",
    "\n",
    "int IncrementAndComputeVectorSum(vector<int> v) {\n",
    "    int total = 0;\n",
    "    AddOneToEach(v);\n",
    "\n",
    "    for (auto i: v) {\n",
    "        total += i;\n",
    "    }\n",
    "    return total;\n",
    "}\n",
    "```\n",
    "---"
   ]
  },
  {
   "cell_type": "markdown",
   "metadata": {},
   "source": [
    "__main.cpp__"
   ]
  },
  {
   "cell_type": "markdown",
   "metadata": {},
   "source": [
    "```cpp\n",
    "#include <iostream>\n",
    "#include <vector>\n",
    "#include \"increment_and_sum.h\"\n",
    "using std::vector;\n",
    "using std::cout;\n",
    "\n",
    "int main() \n",
    "{\n",
    "    vector<int> v{1, 2, 3, 4};\n",
    "    int total = IncrementAndComputeVectorSum(v);\n",
    "    cout << \"The total is: \" << total << \"\\n\";\n",
    "}\n",
    "```"
   ]
  },
  {
   "cell_type": "markdown",
   "metadata": {},
   "source": [
    "If you look carefully at the files above, you will see several things:\n",
    "\n",
    "- vect_add_one.h is included in increment_and_sum.cpp.\n",
    "\n",
    "> This is because AddOneToEach is used in IncrementAndComputeVectorSum. Including the vect_add_one.h header means that the AddOneToEach function declaration is pasted into increment_and_sum.cpp, so no compiler error will occur when the AddOneToEach function is used.\n",
    "\n",
    "- Only the header file needs to be included in another file.\n",
    "\n",
    "> As long as the header file is included, the corresponding function declarations will be included. When the compiler finds an undefined function, it has already seen the function's declaration. This means the compiler can continue on without error until it finds the definition of the function, regardless of where that definition is.\n",
    "\n",
    "- Some libraries, like <vector> are included in multiple files.\n",
    "\n",
    "> Each file is compiled alone and must have all the declarations and libraries necessary to compile, so the necessary libraries must be included. This is another reason why include guards are important - if multiple headers were included in main, each with the same #include <vector> statement, you wouldn't want the vector header pasted multiple times into the code.\n",
    "\n",
    "- The g++ compile command from the \"Run Code\" button is:\n",
    "\n",
    ">g++ -std=c++17 ./code/main.cpp ./code/increment_and_sum.cpp ./code/vect_add_one.cpp && ./a.out\n",
    "When compiling, each of the relevant .cpp files must be included in the compile command. The -std=c++17 specifies that we are using the C++ 17 standard (which happens automatically in the terminal)."
   ]
  },
  {
   "cell_type": "markdown",
   "metadata": {},
   "source": [
    "#### References ####\n",
    "\n",
    "As mentioned previously, a reference is another name given to an existing variable. On the left hand side of any variable declaration, the & operator can be used to declare a reference."
   ]
  },
  {
   "cell_type": "markdown",
   "metadata": {},
   "source": [
    "```cpp\n",
    "#include <iostream>\n",
    "using std::cout;\n",
    "\n",
    "int main() \n",
    "{\n",
    "    int i = 1;\n",
    "    \n",
    "    // Declare a reference to i.\n",
    "    int& j = i;\n",
    "    cout << \"The value of j is: \" << j << \"\\n\";\n",
    "    \n",
    "    // Change the value of i.\n",
    "    i = 5;\n",
    "    cout << \"The value of i is changed to: \" << i << \"\\n\";\n",
    "    cout << \"The value of j is now: \" << j << \"\\n\";\n",
    "    \n",
    "    // Change the value of the reference.\n",
    "    // Since reference is just another name for the variable,\n",
    "    // th\n",
    "    j = 7;\n",
    "    cout << \"The value of j is now: \" << j << \"\\n\";\n",
    "    cout << \"The value of i is changed to: \" << i << \"\\n\";\n",
    "}\n",
    "```"
   ]
  },
  {
   "cell_type": "markdown",
   "metadata": {},
   "source": [
    "#### Pointers ####\n",
    "\n",
    "Pointers have traditionally been a stumbling block for many students learning C++, but they do not need to be!\n",
    "\n",
    ">A C++ pointer is just a variable that stores the memory address of an object in your program.\n",
    "\n",
    "That is the most important thing to understand and remember about pointers - they essentially keep track of where a variable is stored in the computer's memory.\n",
    "\n",
    "In the previous lessons, you implemented A* search in a single file without using C++ pointers, except in CellSort code that was provided for you; a C++ program can be written without using pointers extensively (or at all). However, pointers give you better control over how your program uses memory. However, much like the pass-by-reference example that you saw previously, it can often be far more efficient to perform an operation with a pointer to an object than performing the same operation using the object itself.\n",
    "\n",
    "Pointers are an extremely important part of the C++ language, and as you are exposed to more C++ code, you will certainly encounter them. In this notebook, you will become familiar with basic pointers so you get comfortable with the syntax, and you will be ready to use them in the course project code."
   ]
  },
  {
   "cell_type": "markdown",
   "metadata": {},
   "source": [
    "#### Accessing a Memory Address ####\n",
    "Each variable in a program stores its contents in the computer's memory, and each chunk of the memory has an address number. For a given variable, the memory address can be accessed using an ampersand in front of the variable. To see an example of this, execute the following code which displays the hexadecimal memory addresses of the variables i and j:"
   ]
  },
  {
   "cell_type": "markdown",
   "metadata": {},
   "source": [
    "```cpp\n",
    "#include <iostream>\n",
    "using std::cout;\n",
    "\n",
    "int main() {\n",
    "    int i = 5;\n",
    "    int j = 6;\n",
    "    \n",
    "    // Print the memory addresses of i and j\n",
    "    cout << \"The address of i is: \" << &i << \"\\n\";\n",
    "    cout << \"The address of j is: \" << &j << \"\\n\";\n",
    "}\n",
    "```"
   ]
  },
  {
   "cell_type": "markdown",
   "metadata": {},
   "source": [
    "At this point, you might be wondering why the same symbol `&` can be used to both access memory addresses and, as you've seen before, pass references into a function. This is a great thing to wonder about. The overloading of the ampersand symbol `&` and the `*` symbol probably contribute to much of the confusion around pointers.\n",
    "\n",
    "> **The symbols `&` and `*` have a different meaning, depending on which side of an equation they appear.**\n",
    "\n",
    "_This is extremely important to remember._ For the `&` symbol, if it appears on the left side of an equation (e.g. when declaring a variable), it means that the variable is declared as a reference. If the `&` appears on the right side of an equation, or before a previously defined variable, it is used to return a memory address, as in the example above.\n",
    "\n",
    "#### Storing a Memory Address (int type)\n",
    "\n",
    "Once a memory address is accessed, you can store it using a pointer. A pointer can be declared by using the `*` operator in the declaration. See the following code for an example:"
   ]
  },
  {
   "cell_type": "markdown",
   "metadata": {},
   "source": [
    "```cpp\n",
    "#include <iostream>\n",
    "using std::cout;\n",
    "\n",
    "int main() \n",
    "{\n",
    "    int i = 5;\n",
    "    // A pointer pointer_to_i is declared and initialized to the address of i.\n",
    "    int* pointer_to_i = &i;\n",
    "    \n",
    "    // Print the memory addresses of i and j\n",
    "    cout << \"The address of i is:          \" << &i << \"\\n\";\n",
    "    cout << \"The variable pointer_to_i is: \" << pointer_to_i << \"\\n\";\n",
    "}\n",
    "```"
   ]
  },
  {
   "cell_type": "markdown",
   "metadata": {},
   "source": [
    "As you can see from the code, the variable `pointer_to_i` is declared as a pointer to an `int` using the `*` symbol, and `pointer_to_i` is set to the address of `i`. From the printout, it can be seen that `pointer_to_i` holds the same value as the address of `i`."
   ]
  },
  {
   "cell_type": "markdown",
   "metadata": {},
   "source": [
    "#### Getting an Object Back from a Pointer Address ####\n",
    "\n",
    "Once you have a pointer, you may want to retrieve the object it is pointing to. In this case, the `*` symbol can be used again. This time, however, it will appear on the right hand side of an equation or in front of an already-defined variable, so the meaning is different. In this case, it is called the \"dereferencing operator\", and it returns the object being pointed to. You can see how this works with the code below:"
   ]
  },
  {
   "cell_type": "markdown",
   "metadata": {},
   "source": [
    "```cpp\n",
    "#include <iostream>\n",
    "using std::cout;\n",
    "\n",
    "int main() \n",
    "{\n",
    "    int i = 5;\n",
    "    // A pointer pointer_to_i is declared and initialized to the address of i.\n",
    "    int* pointer_to_i = &i;\n",
    "    \n",
    "    // Print the memory addresses of i and j\n",
    "    cout << \"The address of i is:          \" << &i << \"\\n\";\n",
    "    cout << \"The variable pointer_to_i is: \" << pointer_to_i << \"\\n\";\n",
    "    cout << \"The value of the variable pointed to by pointer_to_i is: \" << *pointer_to_i << \"\\n\";\n",
    "}\n",
    "```"
   ]
  },
  {
   "cell_type": "markdown",
   "metadata": {},
   "source": [
    "In the following example, the code is similar to above, except that the object that is being pointed to is changed before the pointer is dereferenced. Before executing the following code, guess what you think will happen to the value of the dereferenced pointer."
   ]
  },
  {
   "cell_type": "markdown",
   "metadata": {},
   "source": [
    "```cpp\n",
    "#include <iostream>\n",
    "using std::cout;\n",
    "\n",
    "int main() {\n",
    "    int i = 5;\n",
    "    // A pointer pointer_to_i is declared and initialized to the address of i.\n",
    "    int* pointer_to_i = &i;\n",
    "    \n",
    "    // Print the memory addresses of i and j\n",
    "    cout << \"The address of i is:          \" << &i << \"\\n\";\n",
    "    cout << \"The variable pointer_to_i is: \" << pointer_to_i << \"\\n\";\n",
    "    \n",
    "    // The value of i is changed.\n",
    "    i = 7;\n",
    "    cout << \"The new value of the variable i is                     : \" << i << \"\\n\";\n",
    "    cout << \"The value of the variable pointed to by pointer_to_i is: \" << *pointer_to_i << \"\\n\";\n",
    "}\n",
    "```"
   ]
  },
  {
   "cell_type": "markdown",
   "metadata": {},
   "source": [
    "As you can see, an object or variable can be changed while a pointer is pointing to it."
   ]
  },
  {
   "cell_type": "markdown",
   "metadata": {},
   "source": [
    "#### Pointers Continued ####\n",
    "\n",
    "In the previous concept, you were introduced to int pointers, and you learned the syntax for creating a pointer and retrieving an object from a pointer.\n",
    "\n",
    "Below, you will see how to create pointers to other object types, and you will learn about how to use pointers with functions."
   ]
  },
  {
   "cell_type": "markdown",
   "metadata": {},
   "source": [
    "__Pointers to Other Object Types__\n",
    "\n",
    "Although the type of object being pointed to must be included in a pointer declaration, pointers hold the same kind of value for every type of object: just a memory address to where the object is stored. "
   ]
  },
  {
   "cell_type": "markdown",
   "metadata": {},
   "source": [
    "```cpp\n",
    "#include <iostream>\n",
    "#include <vector>\n",
    "using std::cout;\n",
    "using std::vector;\n",
    "\n",
    "int main() {\n",
    "    // Vector v is declared and initialized to {1, 2, 3}\n",
    "    vector<int> v {1, 2, 3};\n",
    "    \n",
    "    // Declare and initialize a pointer to the address of v here:\n",
    "    vector<int> *pointer_to_v = &v;\n",
    "\n",
    "    // The following loops over each int a in the vector v and prints.\n",
    "    // Note that this uses a \"range-based\" for loop: https://www.geeksforgeeks.org/range-based-loop-c/\n",
    "    for (int a: v) {\n",
    "        cout << a << \"\\n\";\n",
    "    }\n",
    "    \n",
    "    // Dereference your pointer to v and print the int at index 0 here (note: you should print 1):\n",
    "    cout << \"The first element of v is: \" << (*pointer_to_v)[0] << \"\\n\";\n",
    "}\n",
    "```"
   ]
  },
  {
   "cell_type": "markdown",
   "metadata": {},
   "source": [
    "#### Passing Pointers to a Function ####\n",
    "\n",
    "Pointers can be used in another form of pass-by-reference when working with functions. When used in this context, they work much like the references that you used for pass-by reference previously. If the pointer is pointing to a large object, it can be much more efficient to pass the pointer to a function than to pass a copy of the object as with pass-by-value.\n",
    "\n",
    "In the following code, a pointer to an int is created, and that pointer is passed to a function. The object pointed to is then modified in the function."
   ]
  },
  {
   "cell_type": "markdown",
   "metadata": {},
   "source": [
    "```cpp\n",
    "#include <iostream>\n",
    "using std::cout;\n",
    "\n",
    "void AddOne(int* j)\n",
    "{\n",
    "    // Dereference the pointer and increment the int being pointed to.\n",
    "    (*j)++;\n",
    "}\n",
    "\n",
    "int main() \n",
    "{\n",
    "    int i = 1;\n",
    "    cout << \"The value of i is: \" << i << \"\\n\";\n",
    "    \n",
    "    // Declare a pointer to i:\n",
    "    int* pi = &i;\n",
    "    AddOne(pi);\n",
    "    cout << \"The value of i is now: \" << i << \"\\n\";\n",
    "}\n",
    "```"
   ]
  },
  {
   "cell_type": "markdown",
   "metadata": {},
   "source": [
    "When using pointers with functions, some care should be taken. If a pointer is passed to a function and then assigned to a variable in the function that goes out of scope after the function finishes executing, then the pointer will have undefined behavior at that point - the memory it is pointing to might be overwritten by other parts of the program."
   ]
  },
  {
   "cell_type": "markdown",
   "metadata": {},
   "source": [
    "#### Returning a Pointer from a Function ####\n",
    "\n",
    "You can also return a pointer from a function. As mentioned just above, if you do this, you must be careful that the object being pointed to doesn't go out of scope when the function finishes executing. If the object goes out of scope, the memory address being pointed to might then be used for something else.\n",
    "\n",
    "In the example below, a reference is passed into a function and a pointer is returned. This is safe since the pointer being returned points to a reference - a variable that exists outside of the function and will not go out of scope in the function."
   ]
  },
  {
   "cell_type": "markdown",
   "metadata": {},
   "source": [
    "```cpp\n",
    "#include <iostream>\n",
    "using std::cout;\n",
    "\n",
    "int* AddOne(int& j) \n",
    "{\n",
    "    // Increment the referenced int and return the\n",
    "    // address of j.\n",
    "    j++;\n",
    "    return &j;\n",
    "}\n",
    "\n",
    "int main() \n",
    "{\n",
    "    int i = 1;\n",
    "    cout << \"The value of i is: \" << i << \"\\n\";\n",
    "    \n",
    "    // Declare a pointer and initialize to the value\n",
    "    // returned by AddOne:\n",
    "    int* my_pointer = AddOne(i);\n",
    "    cout << \"The value of i is now: \" << i << \"\\n\";\n",
    "    cout << \"The value of the int pointed to by my_pointer is: \" << *my_pointer << \"\\n\";\n",
    "}\n",
    "```"
   ]
  },
  {
   "cell_type": "markdown",
   "metadata": {},
   "source": [
    "#### References vs Pointers ####\n",
    "\n",
    "Pointers and references can have similar use cases in C++. As seen previously both references and pointers can be used in pass-by-reference to a function. Additionally, they both provide an alternative way to access an existing variable: pointers through the variable's address, and references through another name for that variable. But what are the differences between the two, and when should each be used? The following list summarizes some of the differences between pointers and references, as well as when each should be used:\n",
    "\n",
    "\n",
    "References must be initialized when they are declared. This means that a reference will always point to data that was intentionally assigned to it.\tPointers can be declared without being initialized, which is dangerous. If this happens mistakenly, the pointer could be pointing to an arbitrary address in memory, and the data associated with that address could be meaningless, leading to undefined behavior and difficult-to-resolve bugs.\n",
    "References can not be null. This means that a reference should point to meaningful data in the program.\tPointers can be null. In fact, if a pointer is not initialized immediately, it is often best practice to initialize to nullptr, a special type which indicates that the pointer is null.\n",
    "When used in a function for pass-by-reference, the reference can be used just as a variable of the same type would be.\tWhen used in a function for pass-by-reference, a pointer must be dereferenced in order to access the underlying object.\n",
    "\n",
    "References are generally easier and safer than pointers. As a decent rule of thumb, references should be used in place of pointers when possible.\n",
    "\n",
    "However, there are times when it is not possible to use references. One example is object initialization. You might like one object to store a reference to another object. However, if the other object is not yet available when the first object is created, then the first object will need to use a pointer, not a reference, since a reference cannot be null. The reference could only be initialized once the other object is created."
   ]
  },
  {
   "cell_type": "markdown",
   "metadata": {},
   "source": [
    "#### Map  (alternatively hash table, hash map, or dictionary) ####\n",
    "\n",
    "A map (alternatively hash table, hash map, or dictionary) is a data structure that uses key/value pairs to store data, and provides efficient lookup and insertion of the data. The name \"dictionary\" should provide an excellent idea of how these work, since a dictionary is a real life example of a map.\n",
    "\n",
    "In the cell below, we have created a hash table (`unordered_map`) to store the data from the example above. To create an `unordered_map` in C++, you must include the `<unordered_map>` header, and the sytnax for declaring an `unordered_map` is as follows:\n",
    "```cpp\n",
    "unordered_map <key_type, value_type> variable_name;\n",
    "```\n",
    "In the code below, we check if the `key` is in the `unordered_map` using the `.find()` method. If the key does not exist in the map, then `.find()` returns an `unordered_map::end()` type. Otherwise, `.find()` returns a [C++ iterator](http://www.cplusplus.com/reference/iterator/), which is a pointer that points to the beginning of the iterable key-value pair. \n",
    "\n",
    "We haven't covered iterators in this course, and you won't need them for this project, but they are a lot like pointers that can \"iterate\" forward or backward through a range."
   ]
  },
  {
   "cell_type": "markdown",
   "metadata": {},
   "source": [
    "```cpp\n",
    "#include <iostream>\n",
    "#include <vector>\n",
    "#include <unordered_map>\n",
    "#include <string>\n",
    "using std::vector;\n",
    "using std::cout;\n",
    "using std::unordered_map;\n",
    "using std::string;\n",
    "\n",
    "\n",
    "int main() {\n",
    "    // Create strings to use in the hash table.\n",
    "    string key = \"word\";\n",
    "    string def_1 = \"a unit of language, consisting of one or more spoken sounds or their written representation, that functions as a principal carrier of meaning\";\n",
    "    string def_2 = \"speech or talk: to express one's emotion in words\";\n",
    "    string def_3 = \"a short talk or conversation: 'Marston, I'd like a word with you.'\";\n",
    "    string def_4 = \"an expression or utterance: a word of warning\";\n",
    "    unordered_map <string, vector<string>> my_dictionary;\n",
    "\n",
    "    // Check if key is in the hash table.\n",
    "    if (my_dictionary.find(key) == my_dictionary.end()) {\n",
    "        cout << \"The key 'word' is not in the dictionary.\" << \"\\n\";\n",
    "        cout << \"Inserting a key-value pair into the dictionary.\" << \"\\n\\n\";\n",
    "        // Set the value for the key.\n",
    "        my_dictionary[key] = vector<string> {def_1, def_2, def_3, def_4};\n",
    "    }\n",
    "\n",
    "    // The key should now be in the hash table. You can access the\n",
    "    // value corresponding to the key with square brackets [].\n",
    "    // Here, the value my_dictionary[key] is a vector of strings.\n",
    "    // We iterate over the vector and print the strings.\n",
    "    cout << key << \": \\n\";\n",
    "    auto definitions = my_dictionary[key];\n",
    "    for (string definition : definitions) {\n",
    "        cout << definition << \"\\n\";\n",
    "    }\n",
    "}\n",
    "```"
   ]
  },
  {
   "cell_type": "markdown",
   "metadata": {},
   "source": [
    "### Classes and Object-Oriented Programming ###\n",
    "\n",
    "OOP is a style of coding that collects related data (object attributes) and functions (object methods) together to form a single data structure, called an object. This allows that collection of attributes and methods to be used repeatedly in your program without code repetition.\n",
    "\n",
    "In C++ the attributes and methods that make up an object are specified in a code class, and each object in the program is an instance of that class.\n",
    "\n",
    "#### Code without Objects ####\n",
    "\n",
    "Suppose you were writing a program to model several cars. In your program, you want to keep track of each car's color and the distance the car has traveled, and you want to be able to increment this distance and print out the car's properties. You could write something like the code below to accomplish this:"
   ]
  },
  {
   "cell_type": "markdown",
   "metadata": {},
   "source": [
    "```cpp\n",
    "#include <iostream>\n",
    "#include <string>\n",
    "using std::string;\n",
    "using std::cout;\n",
    "\n",
    "int main() \n",
    "{\n",
    "    // Variables to hold each car's color.\n",
    "    string car_1_color = \"green\";\n",
    "    string car_2_color = \"red\";\n",
    "    string car_3_color = \"blue\";\n",
    "\n",
    "    // Variables to hold each car's initial position.\n",
    "    int car_1_distance = 0;\n",
    "    int car_2_distance = 0;\n",
    "    int car_3_distance = 0;\n",
    "\n",
    "    // Increment car_1's position by 1.\n",
    "    car_1_distance++;\n",
    "\n",
    "    // Print out the position and color of each car.\n",
    "    cout << \"The distance that the \" << car_1_color << \" car 1 has traveled is: \" << car_1_distance << \"\\n\";\n",
    "    cout << \"The distance that the \" << car_2_color << \" car 2 has traveled is: \" << car_2_distance << \"\\n\";\n",
    "    cout << \"The distance that the \" << car_3_color << \" car 3 has traveled is: \" << car_3_distance << \"\\n\";\n",
    "\n",
    "}\n",
    "```"
   ]
  },
  {
   "cell_type": "markdown",
   "metadata": {},
   "source": [
    "This works for the few cars that are defined in the program, but if you wanted the program to keep track of _many_ cars this would be cumbersome. You would need to create a new variables for every car, and the code would quickly become cluttered. One way to fix this would be to define a `Car` class with those variables as attributes, along with a few class methods to increment the distance traveled and print out car data."
   ]
  },
  {
   "cell_type": "markdown",
   "metadata": {},
   "source": [
    "#### Code with Objects ####\n",
    "\n",
    "In the next cell, the code above has been rewritten with a `Car` class."
   ]
  },
  {
   "cell_type": "markdown",
   "metadata": {},
   "source": [
    "```cpp\n",
    "#include <iostream>\n",
    "#include <string>\n",
    "using std::string;\n",
    "using std::cout;\n",
    "\n",
    "// The Car class\n",
    "class Car {\n",
    "  public:\n",
    "    // Method to print data.\n",
    "    void PrintCarData() \n",
    "    {\n",
    "        cout << \"The distance that the \" << color << \" car \" << number << \" has traveled is: \" << distance << \"\\n\";\n",
    "    }\n",
    "    \n",
    "    // Method to increment the distance travelled.\n",
    "    void IncrementDistance() \n",
    "    {\n",
    "        distance++;\n",
    "    }\n",
    "    \n",
    "    // Class/object attributes\n",
    "    string color;\n",
    "    int distance = 0;\n",
    "    int number;\n",
    "};\n",
    "\n",
    "int main() \n",
    "{\n",
    "    // Create class instances for each car.\n",
    "    Car car_1, car_2, car_3;\n",
    "\n",
    "    // Set each instance's color.\n",
    "    car_1.color = \"green\";\n",
    "    car_2.color = \"red\";\n",
    "    car_3.color = \"blue\";     \n",
    "    \n",
    "    // Set each instance's number.\n",
    "    car_1.number = 1;\n",
    "    car_2.number = 2;\n",
    "    car_3.number = 3;\n",
    "\n",
    "    // Increment car_1's position by 1.\n",
    "    car_1.IncrementDistance();\n",
    "\n",
    "    // Print out the position and color of each car.\n",
    "    car_1.PrintCarData();\n",
    "    car_2.PrintCarData();\n",
    "    car_3.PrintCarData();\n",
    "\n",
    "}\n",
    "```"
   ]
  },
  {
   "cell_type": "markdown",
   "metadata": {},
   "source": [
    "This looks ok, and you have reduced the number of variables in main, so you might see how this could be more organized going forward. However, there is now a lot more code than you started with, and the main doesn't seem much more organzied. The code above still sets the attributes for each car after the car has been created.\n",
    "\n",
    "__Adding a Constructor__\n",
    "\n",
    "The best way to fix this is to add a constructor to the Car class. The constructor allows you to instantiate new objects with the data that you want. In the next code cell, we have added a constructor for Car that allows the number and color to be passed in. This means that each Car object can be created with those variables."
   ]
  },
  {
   "cell_type": "markdown",
   "metadata": {},
   "source": [
    "```cpp\n",
    "#include <iostream>\n",
    "#include <string>\n",
    "using std::string;\n",
    "using std::cout;\n",
    "\n",
    "class Car {\n",
    "  public:\n",
    "    void PrintCarData() \n",
    "    {\n",
    "        cout << \"The distance that the \" << color << \" car \" << number << \" has traveled is: \" << distance << \"\\n\";\n",
    "    }\n",
    "\n",
    "    void IncrementDistance() \n",
    "    {\n",
    "        distance++;\n",
    "    }\n",
    "    \n",
    "    // Adding a constructor here:\n",
    "    Car(string c, int n) \n",
    "    {\n",
    "        // Setting the class attributes with\n",
    "        // The values passed into the constructor.\n",
    "        color = c;\n",
    "        number = n;\n",
    "    }\n",
    "    \n",
    "    string color;\n",
    "    int distance = 0;\n",
    "    int number;\n",
    "};\n",
    "\n",
    "int main() \n",
    "{\n",
    "    // Create class instances for each car.\n",
    "    Car car_1 = Car(\"green\", 1);\n",
    "    Car car_2 = Car(\"red\", 2);\n",
    "    Car car_3 = Car(\"blue\", 3);\n",
    "\n",
    "    // Increment car_1's position by 1.\n",
    "    car_1.IncrementDistance();\n",
    "\n",
    "    // Print out the position and color of each car.\n",
    "    car_1.PrintCarData();\n",
    "    car_2.PrintCarData();\n",
    "    car_3.PrintCarData();\n",
    "}\n",
    "```"
   ]
  },
  {
   "cell_type": "markdown",
   "metadata": {},
   "source": [
    "This is now beginning to look better. The main is more organized than when we first started, although there is a little more code overall to accomodate the class definition. At this point, you might want to separate your class definition into it's own .h and .cpp files. "
   ]
  },
  {
   "cell_type": "markdown",
   "metadata": {},
   "source": [
    "### Inheritance ###\n",
    "\n",
    "It is possible for a class to use methods and attributes from another class using class inheritance. For example, if you wanted to make a Sedan class with additional attributes or methods not found in the generic Car class, you could create a Sedan class that inherited from the Car by using the colon notation:"
   ]
  },
  {
   "cell_type": "markdown",
   "metadata": {},
   "source": [
    "```cpp\n",
    "class Sedan : public Car {\n",
    "    // Sedan class declarations/definitions here.\n",
    "};\n",
    "```"
   ]
  },
  {
   "cell_type": "markdown",
   "metadata": {},
   "source": [
    "By doing this, each Sedan class instance will have access to any of the public methods and attributes of Car. In the code above, these areIncrementDistance() and PrintCarData(). You can add additional features to the Sedan class as well. In the example above, Car is often referred to as the parent class, and Sedan as the child or derived class.\n"
   ]
  },
  {
   "cell_type": "markdown",
   "metadata": {},
   "source": [
    "#### Putting the Class Definitions into Separate Files\n",
    "\n",
    "In the previous concept, you saw how to create a `Car` classs and use a constructor. At the end of that concept, your code looked like this:\n",
    "```cpp\n",
    "#include <iostream>\n",
    "#include <string>\n",
    "using std::string;\n",
    "using std::cout;\n",
    "\n",
    "class Car {\n",
    "  public:\n",
    "    void PrintCarData() \n",
    "    {\n",
    "        cout << \"The distance that the \" << color << \" car \" << number << \" has traveled is: \" << distance << \"\\n\";\n",
    "    }\n",
    "\n",
    "    void IncrementDistance() \n",
    "    {\n",
    "        distance++;\n",
    "    }\n",
    "    \n",
    "    // Adding a constructor here:\n",
    "    Car(string c, int n) \n",
    "    {\n",
    "        // Setting the class attributes with\n",
    "        // The values passed into the constructor.\n",
    "        color = c;\n",
    "        number = n;\n",
    "    }\n",
    "    \n",
    "    string color;\n",
    "    int distance = 0;\n",
    "    int number;\n",
    "};\n",
    "\n",
    "int main() \n",
    "{\n",
    "    // Create class instances for each car.\n",
    "    Car car_1 = Car(\"green\", 1);\n",
    "    Car car_2 = Car(\"red\", 2);\n",
    "    Car car_3 = Car(\"blue\", 3);\n",
    "\n",
    "    // Increment car_1's position by 1.\n",
    "    car_1.IncrementDistance();\n",
    "\n",
    "    // Print out the position and color of each car.\n",
    "    car_1.PrintCarData();\n",
    "    car_2.PrintCarData();\n",
    "    car_3.PrintCarData();\n",
    "\n",
    "}\n",
    "```\n",
    "\n",
    "If you were planning to build a larger program, at this point it might be good to put your class definition and function declarations into a separate file. Just as when we discussed header files before, putting the class definition into a separate header helps to organize your code, and prevents problems with trying to use class objects before the class is defined.\n",
    "\n",
    "There are two things to note in the code below. \n",
    "\n",
    "1. When the class methods are defined outside the class, the _scope resolution operator_ `::` must be used to indicate which class the method belongs to. For example, in the definition of the `PrintCarData` method you see:\n",
    "  \n",
    "  ```cpp\n",
    "  void Car::PrintCarData()\n",
    "  ```\n",
    "  This prevents any compiler issues if there are are two classes with methods that have the same name.\n",
    "\n",
    "\n",
    "2. We have changed how the constructor initializes the variables. Instead of the previous constructor:\n",
    "  ```cpp\n",
    "  Car(string c, int n) {\n",
    "      color = c; \n",
    "      number = n;\n",
    "  }\n",
    "  ```\n",
    "  the constructor now uses an [_initializer list_](https://en.cppreference.com/w/cpp/language/initializer_list):\n",
    "  ```cpp\n",
    "  Car(string c, int n) : color(c), number(n) {}\n",
    "  ```\n",
    "  Here, the class members are initialized before the body of the constructor (which is now empty). Initializer lists are a quick way to initialize many class attributes in the constructor. Additionally, the compiler treats attributes initialized in the list slightly differently than if they are initialized in the constructor body. For reasons beyond the scope of this course, if a class attribute is a reference, it must be initialized using an initializer list.\n",
    "  \n",
    "3. Variables that don't need to be visible outside of the class are set as `private`. This means that they can not be accessed outside of the class, which [prevents them from being accidentally changed](https://github.com/isocpp/CppCoreGuidelines/blob/master/CppCoreGuidelines.md#Rc-private).\n",
    "\n",
    "Check out the cells below to see this code in practice. In this code, we have separated the class into declarations and definitions, with declarations being in the `.h` file and definitions being in `.cpp`. Note that only the `.h` file needs to be included in any other file where the definitions are used.\n",
    "\n",
    "\n"
   ]
  },
  {
   "cell_type": "markdown",
   "metadata": {},
   "source": [
    "#### car.h and car.cpp ####\n",
    "\n",
    "```cpp\n",
    "#ifndef CAR_H\n",
    "#define CAR_H\n",
    "\n",
    "#include <string>\n",
    "using std::string;\n",
    "using std::cout;\n",
    "\n",
    "class Car {\n",
    "  public:\n",
    "    void PrintCarData();\n",
    "    void IncrementDistance();\n",
    "    \n",
    "    // Using a constructor list in the constructor:\n",
    "    Car(string c, int n) : color(c), number(n) {}\n",
    "  \n",
    "  // The variables do not need to be accessed outside of\n",
    "  // functions from this class, so we can set them to private.\n",
    "  private:\n",
    "    string color;\n",
    "    int distance = 0;\n",
    "    int number;\n",
    "};\n",
    "\n",
    "#endif\n",
    "\n",
    "```\n",
    "\n",
    "\n",
    "```cpp\n",
    "\n",
    "#include <iostream>\n",
    "#include \"car.h\"\n",
    "\n",
    "// Method definitions for the Car class.\n",
    "void Car::PrintCarData() \n",
    "{\n",
    "    cout << \"The distance that the \" << color << \" car \" << number << \" has traveled is: \" << distance << \"\\n\";\n",
    "}\n",
    "\n",
    "void Car::IncrementDistance() \n",
    "{\n",
    "    distance++;\n",
    "}\n",
    "\n",
    "```\n"
   ]
  },
  {
   "cell_type": "markdown",
   "metadata": {},
   "source": [
    "__car_main.cpp__\n",
    "\n",
    "```cpp\n",
    "\n",
    "#include <iostream>\n",
    "#include <string>\n",
    "#include \"car.h\"\n",
    "using std::string;\n",
    "using std::cout;\n",
    "\n",
    "int main() \n",
    "{\n",
    "    // Create class instances for each car.\n",
    "    Car car_1 = Car(\"green\", 1);\n",
    "    Car car_2 = Car(\"red\", 2);\n",
    "    Car car_3 = Car(\"blue\", 3);\n",
    "\n",
    "    // Increment car_1's position by 1.\n",
    "    car_1.IncrementDistance();\n",
    "\n",
    "    // Print out the position and color of each car.\n",
    "    car_1.PrintCarData();\n",
    "    car_2.PrintCarData();\n",
    "    car_3.PrintCarData();\n",
    "\n",
    "}\n",
    "```"
   ]
  },
  {
   "cell_type": "markdown",
   "metadata": {},
   "source": [
    "#### Scaling Up ####\n",
    "\n",
    "In this concept and the previous one, you took code without classes and converted it into an object-oriented format.\n",
    "\n",
    "In case you aren't convinced that organizing the code using OOP saved you some trouble, the next cell redefines `main.cpp` to generate 100 cars with different colors, move each, and print data about each. This would have been extremely difficult to do if you had to manually create new variables for each car! \n",
    "\n",
    "There is a lot going on in the code to unpack, including the `new` keyword and the `->` operator. The arrow operator `->` is used to simultaneously \n",
    "- dereference a pointer to an object and \n",
    "- access an attribute or method. \n",
    "\n",
    "For example, in the code below, `cp` is a pointer to a Car object, and the following two are equivalent:\n",
    "\n",
    "```cpp\n",
    "// Simultaneously dereference the pointer and \n",
    "// access IncrementDistance().\n",
    "cp->IncrementDistance();\n",
    "\n",
    "// Dereference the pointer using *, then \n",
    "// access IncrementDistance() with traditional \n",
    "// dot notation.\n",
    "(*cp).IncrementDistance();\n",
    "```\n",
    "\n",
    "The `new` operator allocates memory on the \"heap\" for a new Car. In general, this memory must be manually managed (deallocated) to avoid memory leaks in your program. \n",
    "\n",
    "**Note:** This `main.cpp` uses the class files defined above, so be sure you have run the previous example before running this one. "
   ]
  },
  {
   "cell_type": "markdown",
   "metadata": {},
   "source": [
    "```cpp\n",
    "#include <iostream>\n",
    "#include <string>\n",
    "#include <vector>\n",
    "#include \"car.h\"\n",
    "using std::string;\n",
    "using std::cout;\n",
    "using std::vector;\n",
    "\n",
    "int main() {\n",
    "    // Create an empty vector of pointers to Cars \n",
    "    // and a null pointer to a car.\n",
    "    vector<Car*> car_vect;\n",
    "    Car* cp = nullptr;\n",
    "    \n",
    "    // The vector of colors for the cars:\n",
    "    vector<string> colors {\"red\", \"blue\", \"green\"};\n",
    "\n",
    "    // Create 100 cars with different colors and \n",
    "    // push pointers to each of those cars into the vector.\n",
    "    for (int i=0; i < 100; i++) {;\n",
    "        cp = new Car(colors[i%3], i+1);\n",
    "        car_vect.push_back(cp);\n",
    "    }\n",
    "\n",
    "    // Move each car forward by 1.\n",
    "    for (Car* cp: car_vect) {\n",
    "        cp->IncrementDistance();\n",
    "    }\n",
    "\n",
    "    // Print data about each car.\n",
    "    for (Car* cp: car_vect) {\n",
    "        cp->PrintCarData();\n",
    "    }\n",
    "}\n",
    "\n",
    "```"
   ]
  },
  {
   "cell_type": "markdown",
   "metadata": {},
   "source": [
    "__This Pointer__\n",
    "\n",
    "When working with classes it is often helpful to be able to refer to the current class instance or object. For example, given the following Car class from a previous lesson, the IncrementDistance() method implicitly refers to the current Car instance's distance attribute:\n",
    "\n",
    "```cpp\n",
    "// The Car class\n",
    "class Car {\n",
    "  public:\n",
    "    // Method to print data.\n",
    "    void PrintCarData() {\n",
    "        cout << \"The distance that the \" << color << \" car \" << number << \" has traveled is: \" << distance << \"\\n\";\n",
    "    }\n",
    "\n",
    "    // Method to increment the distance travelled.\n",
    "    void IncrementDistance() {\n",
    "        distance++;\n",
    "    }\n",
    "\n",
    "    // Class/object attributes\n",
    "    string color;\n",
    "    int distance = 0;\n",
    "    int number;\n",
    "};\n",
    "```\n",
    "\n",
    "\n",
    "It is possible to make this explicit in C++ by using the this pointer, which points to the current class instance. Using this can sometimes be helpful to add clarity to more complicated code:\n",
    "\n",
    "```cpp\n",
    "// The Car class\n",
    "class Car {\n",
    "  public:\n",
    "    // Method to print data.\n",
    "    void PrintCarData() {\n",
    "        cout << \"The distance that the \" << this->color << \" car \" << this->number << \" has traveled is: \" << this->distance << \"\\n\";\n",
    "    }\n",
    "\n",
    "    // Method to increment the distance travelled.\n",
    "    void IncrementDistance() {\n",
    "        this->distance++;\n",
    "    }\n",
    "\n",
    "    // Class/object attributes\n",
    "    string color;\n",
    "    int distance = 0;\n",
    "    int number;\n",
    "};\n",
    "```\n",
    "\n",
    "Note: you may see this used in some code in the remainder of the course."
   ]
  },
  {
   "cell_type": "markdown",
   "metadata": {},
   "source": [
    "# Object-Oriented Programming #\n",
    "\n",
    "## Structure ##\n",
    "\n",
    "Structures allow developers to create their own types (\"user-defined\" types) to aggregate data relevant to their needs.\n",
    "\n",
    "For example, a user might define a Rectangle structure to hold data about rectangles used in a program.\n",
    "\n",
    "```cpp\n",
    "struct Rectangle {\n",
    "  float length;\n",
    "  float width;\n",
    "};\n",
    "```\n"
   ]
  },
  {
   "cell_type": "markdown",
   "metadata": {},
   "source": [
    "## Types ##\n",
    "\n",
    "Every C++ variable is defined with a type.\n",
    "\n",
    "```cpp\n",
    "int value;\n",
    "Rectangle rectangle;\n",
    "Sphere earth;\n",
    "```\n",
    "\n",
    "In this example, the \"type\" of value is int. Furthermore, rectangle is \"of type\" Rectangle, and earth has type Sphere."
   ]
  },
  {
   "cell_type": "markdown",
   "metadata": {},
   "source": [
    "### Fundamental Types ###\n",
    "C++ includes fundamental types, such as int and float. These fundamental types are sometimes called \"primitives\".\n",
    "\n",
    "The Standard Library [includes additional types](, such as std::size_t and std::string.\n",
    "\n",
    "\n",
    "### User-Defined Types ###\n",
    "\n",
    "Structures are \"user-defined\" types. Structures are a way for programmers to create types that aggregate and store data in way that makes sense in the context of a program.\n",
    "\n",
    "For example, C++ does not have a fundamental type for storing a date. (The Standard Library does include types related to time, which can be converted to dates.)\n",
    "\n",
    "A programmer might desire to create a type to store a date.\n",
    "\n",
    "Consider the following example:\n",
    "\n",
    "```cpp\n",
    "struct Date {\n",
    "  int day;\n",
    "  int month;\n",
    "  int year;\n",
    "};\n",
    "```\n",
    "The code above creates a structure containing three \"member variables\" of type int: day, month and year.\n",
    "\n",
    "If you then create an \"instance\" of this structure, you can initialize these member variables:\n",
    "\n",
    "```cpp\n",
    "// Create an instance of the Date structure\n",
    "Date date;\n",
    "// Initialize the attributes of Date\n",
    "date.day = 1;\n",
    "date.month = 10;\n",
    "date.year = 2019;\n",
    "```"
   ]
  },
  {
   "cell_type": "markdown",
   "metadata": {},
   "source": [
    "### Member Initialization ###\n",
    "\n",
    "Generally, we want to avoid instantiating an object with undefined members. Ideally, we would like all members of an object to be in a valid state once the object is instantiated. We can change the values of the members later, but we want to avoid any situation in which the members are ever in an invalid state or undefined.\n",
    "\n",
    "In order to ensure that objects of our Date structure always start in a valid state, we can initialize the members from within the structure definition.\n",
    "\n",
    "```cpp\n",
    "struct Date {\n",
    "  int day{1};\n",
    "  int month{1};\n",
    "  int year{0};\n",
    "};\n",
    "```\n",
    "\n",
    "There are also several other approaches to either initialize or assign member variables when the object is instantiated. For now, however, this approach ensures that every object of Date begins its life in a defined and valid state."
   ]
  },
  {
   "cell_type": "markdown",
   "metadata": {},
   "source": [
    "__Example of Structs__\n",
    "\n",
    "```cpp\n",
    "// Include iostream for output\n",
    "#include <cassert>\n",
    "#include <iostream>\n",
    "\n",
    "// Define a simple structure\n",
    "struct Date {\n",
    "  int day;\n",
    "  int month;\n",
    "  int year;\n",
    "};\n",
    "\n",
    "// Define a main function to instantiate and test \n",
    "int main()\n",
    "{\n",
    "    Date date;\n",
    "    \n",
    "    // TODO: Initialize date to August 29, 1981\n",
    "    date.day = 29;\n",
    "    date.month = 8;\n",
    "    date.year = 1981;\n",
    "    \n",
    "    // TEST\n",
    "    assert(date.day == 29);\n",
    "    assert(date.month == 8);\n",
    "    assert(date.year == 1981);\n",
    "\n",
    "    // Print the data in the structure\n",
    "    std::cout << date.day << \"/\" << date.month << \"/\" << date.year << \"\\n\";\n",
    "}\n",
    "```"
   ]
  },
  {
   "cell_type": "markdown",
   "metadata": {},
   "source": [
    "## Access Specifiers ##\n",
    "Members of a structure can be specified as public or private.\n",
    "\n",
    "By default, all members of a structure are public, unless they are specifically marked private.\n",
    "\n",
    "Public members can be changed directly, by any user of the object, whereas private members can only be changed by the object itself.\n",
    "\n",
    "### Private Members ###\n",
    "This is an implementation of the Date structure, with all members marked as private.\n",
    "\n",
    "```cpp\n",
    "struct Date {\n",
    " private:\n",
    "  int day{1};\n",
    "  int month{1};\n",
    "  int year{0};\n",
    "};\n",
    "```\n",
    "\n",
    "Private members of a class are accessible only from within other member functions of the same class (or from their \"friends\", which we’ll talk about later).\n",
    "\n",
    "There is a third access modifier called protected, which implies that members are accessible from other member functions of the same class (or from their \"friends\"), and also from members of their derived classes. We'll also discuss about derived classes later, when we learn about inheritance."
   ]
  },
  {
   "cell_type": "markdown",
   "metadata": {},
   "source": [
    "### Accessors And Mutators ###\n",
    "To access private members, we typically define public \"accessor\" and \"mutator\" member functions (sometimes called \"getter\" and \"setter\" functions).\n",
    "\n",
    "```cpp\n",
    "struct Date {\n",
    " public:\n",
    "  int Day() { return day; }\n",
    "  void Day(int day) { this.day = day; }\n",
    "  int Month() { return month; }\n",
    "  void Month(int month) { this.month = month; }\n",
    "  int Year() { return year; }\n",
    "  void Year(int year) { this.year = year; }\n",
    "\n",
    " private:\n",
    "  int day{1};\n",
    "  int month{1};\n",
    "  int year{0};\n",
    "};\n",
    "``\n",
    "\n",
    "`In the last example, you saw how to create a setter function for class member attributes. Check out the code in the Notebook below to play around a bit with access modifiers as well as setter and getter functions!"
   ]
  }
 ],
 "metadata": {
  "kernelspec": {
   "display_name": "Python 3",
   "language": "python",
   "name": "python3"
  },
  "language_info": {
   "codemirror_mode": {
    "name": "ipython",
    "version": 3
   },
   "file_extension": ".py",
   "mimetype": "text/x-python",
   "name": "python",
   "nbconvert_exporter": "python",
   "pygments_lexer": "ipython3",
   "version": "3.7.4"
  },
  "toc": {
   "base_numbering": 1,
   "nav_menu": {},
   "number_sections": true,
   "sideBar": true,
   "skip_h1_title": false,
   "title_cell": "Table of Contents",
   "title_sidebar": "Contents",
   "toc_cell": false,
   "toc_position": {
    "height": "calc(100% - 180px)",
    "left": "10px",
    "top": "150px",
    "width": "383.4px"
   },
   "toc_section_display": true,
   "toc_window_display": true
  }
 },
 "nbformat": 4,
 "nbformat_minor": 2
}
