{
 "cells": [
  {
   "cell_type": "markdown",
   "metadata": {},
   "source": [
    "# Alexandria #\n",
    "\n",
    "### *The Greate Library* ###"
   ]
  },
  {
   "cell_type": "code",
   "execution_count": 3,
   "metadata": {},
   "outputs": [],
   "source": [
    "\n",
    "# READ AND WRITE TEXT TO AND FROM FILE\n",
    "from datetime import datetime\n",
    "\n",
    "now = datetime.now().strftime(\"%d_%m_%Y_%H_%M_%S\")\n",
    "\n",
    "# WRITE TO A FILE \n",
    "fw = open(str(now) + '.txt', 'w')\n",
    "fw.write('Writing some stuff in my text file\\n')\n",
    "fw.write('I like bacon')\n",
    "fw.close()\n",
    "\n",
    "# READ FROM A FILE\n",
    "fr = open(str(now) + '.txt', 'r')\n",
    "text = fr.read()\n",
    "print(text)\n",
    "fr.close()\n"
   ]
  },
  {
   "cell_type": "code",
   "execution_count": 2,
   "metadata": {},
   "outputs": [
    {
     "name": "stdout",
     "output_type": "stream",
     "text": [
      "['h', 'e', 'l', 'l', 'o', ' ', 'w', 'o', 'r', 'l', 'd']\n"
     ]
    }
   ],
   "source": [
    "# This method converts string to lists.\n",
    "\n",
    "def str_to_list(word): \n",
    "    \n",
    "    return [char for char in word]  \n",
    "\n",
    "a = str_to_list(\"hello world\")\n",
    "\n",
    "print (a)"
   ]
  },
  {
   "cell_type": "code",
   "execution_count": 4,
   "metadata": {},
   "outputs": [
    {
     "name": "stdout",
     "output_type": "stream",
     "text": [
      "[104, 101, 108, 108, 111, 32, 119, 111, 114, 108, 100]\n"
     ]
    }
   ],
   "source": [
    "# This method converts a list of characters to their corresponding list of ascii numbers.\n",
    "\n",
    "def list_to_ascii(original_list):\n",
    "\n",
    "    return [ord(x) for x in original_list]\n",
    "\n",
    "\n",
    "list1 = ['h', 'e', 'l', 'l', 'o', ' ', 'w', 'o', 'r', 'l', 'd']\n",
    "a = list_to_ascii(list1)\n",
    "print(a)"
   ]
  },
  {
   "cell_type": "code",
   "execution_count": 8,
   "metadata": {},
   "outputs": [
    {
     "name": "stdout",
     "output_type": "stream",
     "text": [
      "[104, 101, 108, 108, 111, 32, 119, 111, 114, 108, 100]\n"
     ]
    }
   ],
   "source": [
    "# This method converts string to a list of each characters corresponding ascii number.\n",
    "\n",
    "def str_to_ascii(text):\n",
    "\n",
    "    return [ord(x) for x in [char for char in text] ]\n",
    "\n",
    "\n",
    "print(str_to_ascii(\"hello world\"))"
   ]
  },
  {
   "cell_type": "code",
   "execution_count": null,
   "metadata": {},
   "outputs": [],
   "source": [
    "import subprocess\n",
    "\n",
    "def Powershell_exe(destination_of_script,destination_of_file):\n",
    "\n",
    "    # This method can execute powershell scripts \n",
    "    # located in both .txt and .ps1 files\n",
    "    # \n",
    "    # destination_of_script = where file containing the script is located\n",
    "    # destination_of_file = in which file to return output \n",
    "\n",
    "    script = open(destination_of_script , \"r\") \n",
    "    p1 = subprocess.run([\"powershell.exe\", script.read()], capture_output=True, text=True)\n",
    "    return destination_of_file.write(p1.stdout)  \n"
   ]
  },
  {
   "cell_type": "code",
   "execution_count": null,
   "metadata": {},
   "outputs": [],
   "source": [
    "import os\n",
    "\n",
    "def Script_Runner(script_folder_loction, output_file_location):\n",
    "    \n",
    "    # This method iterates through the script folder. \n",
    "    # It then uses the Powershell_exe() method to execute each file.\n",
    "\n",
    "    # script_folder_loction = Location where all powershell scripts are stored.\n",
    "    # output_file_location = The location of the log file.\n",
    "\n",
    "    for filename in os.listdir(script_folder_loction):\n",
    "        if filename.endswith(\".txt\") or filename.endswith(\".ps1\"): \n",
    "            \n",
    "            # scrit = path to a script file\n",
    "            script = os.path.join(script_folder_loction, filename)\n",
    "\n",
    "            # The Powershell_exe() method is now used to execute te \"script\" file.\n",
    "            Powershell_exe(script,output_file_location)\n",
    "\n",
    "            continue\n",
    "        else:\n",
    "            continue\n",
    "            "
   ]
  },
  {
   "cell_type": "code",
   "execution_count": null,
   "metadata": {},
   "outputs": [],
   "source": [
    "import os\n",
    "\n",
    "def Maintainer(file_name,num_of_files):\n",
    "\n",
    "    # This method is used to calculate the amount of files in a folder. \n",
    "    # And remove the oldest files if there are to many.\n",
    "\n",
    "    # file_name = Name of folder containing the files.\n",
    "    # num_of_files = Number of files allowed in folder.\n",
    "\n",
    "    while True:\n",
    "\n",
    "        file_count = sum([len(files) for r, d, files in os.walk(file_name)]) #Counts number of files in folder\n",
    "\n",
    "        if file_count > num_of_files:\n",
    "            \n",
    "            # The following code is used to determin the oldest file in the folder\n",
    "            path = file_name\n",
    "            os.chdir(path)\n",
    "            files = sorted(os.listdir(os.getcwd()), key=os.path.getmtime)\n",
    "\n",
    "            oldest_file = files[0]\n",
    "            # newest_file = files[-1]\n",
    "\n",
    "            os.remove(oldest_file) # Removes oldest file\n",
    "\n",
    "        else:\n",
    "            break\n",
    "            "
   ]
  },
  {
   "cell_type": "code",
   "execution_count": 1,
   "metadata": {},
   "outputs": [
    {
     "name": "stdout",
     "output_type": "stream",
     "text": [
      "48:F1:7F:84:0F:A7\n"
     ]
    }
   ],
   "source": [
    "def LocalMAC():\n",
    "\n",
    "    #  This Method returns your MAC address.\n",
    "    \n",
    "    import uuid\n",
    "\n",
    "    localMac = (':'.join(['{:02x}'.format((uuid.getnode() >> ele) & 0xff)\n",
    "                          for ele in range(0, 8 * 6, 8)][::-1]))\n",
    "    localMac = localMac.upper()\n",
    "\n",
    "    return localMac\n",
    "\n",
    "print(LocalMAC())"
   ]
  },
  {
   "cell_type": "code",
   "execution_count": null,
   "metadata": {},
   "outputs": [],
   "source": []
  }
 ],
 "metadata": {
  "kernelspec": {
   "display_name": "Python 3",
   "language": "python",
   "name": "python3"
  },
  "language_info": {
   "codemirror_mode": {
    "name": "ipython",
    "version": 3
   },
   "file_extension": ".py",
   "mimetype": "text/x-python",
   "name": "python",
   "nbconvert_exporter": "python",
   "pygments_lexer": "ipython3",
   "version": "3.7.4"
  }
 },
 "nbformat": 4,
 "nbformat_minor": 4
}
