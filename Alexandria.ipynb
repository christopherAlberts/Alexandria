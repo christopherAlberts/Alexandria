{
 "cells": [
  {
   "cell_type": "markdown",
   "metadata": {},
   "source": [
    "# Alexandria #\n",
    "\n",
    "### *The Greate Library* ###"
   ]
  },
  {
   "cell_type": "code",
   "execution_count": 3,
   "metadata": {},
   "outputs": [],
   "source": [
    "\n",
    "# READ AND WRITE TEXT TO AND FROM FILE\n",
    "from datetime import datetime\n",
    "\n",
    "now = datetime.now().strftime(\"%d_%m_%Y_%H_%M_%S\")\n",
    "\n",
    "# WRITE TO A FILE \n",
    "fw = open(str(now) + '.txt', 'w')\n",
    "fw.write('Writing some stuff in my text file\\n')\n",
    "fw.write('I like bacon')\n",
    "fw.close()\n",
    "\n",
    "# READ FROM A FILE\n",
    "fr = open(str(now) + '.txt', 'r')\n",
    "text = fr.read()\n",
    "print(text)\n",
    "fr.close()\n"
   ]
  },
  {
   "cell_type": "code",
   "execution_count": 2,
   "metadata": {},
   "outputs": [
    {
     "name": "stdout",
     "output_type": "stream",
     "text": [
      "['h', 'e', 'l', 'l', 'o', ' ', 'w', 'o', 'r', 'l', 'd']\n"
     ]
    }
   ],
   "source": [
    "def str_to_list(word): \n",
    "    \n",
    "    # This method converts string to lists.\n",
    "    \n",
    "    return [char for char in word]  \n",
    "\n",
    "a = str_to_list(\"hello world\")\n",
    "\n",
    "print (a)"
   ]
  },
  {
   "cell_type": "code",
   "execution_count": 4,
   "metadata": {},
   "outputs": [
    {
     "name": "stdout",
     "output_type": "stream",
     "text": [
      "[104, 101, 108, 108, 111, 32, 119, 111, 114, 108, 100]\n"
     ]
    }
   ],
   "source": [
    "def list_to_ascii(original_list):\n",
    "    \n",
    "    # This method converts a list of characters to their corresponding list of ascii numbers.\n",
    "\n",
    "    return [ord(x) for x in original_list]\n",
    "\n",
    "\n",
    "list1 = ['h', 'e', 'l', 'l', 'o', ' ', 'w', 'o', 'r', 'l', 'd']\n",
    "a = list_to_ascii(list1)\n",
    "print(a)"
   ]
  },
  {
   "cell_type": "code",
   "execution_count": 8,
   "metadata": {},
   "outputs": [
    {
     "name": "stdout",
     "output_type": "stream",
     "text": [
      "[104, 101, 108, 108, 111, 32, 119, 111, 114, 108, 100]\n"
     ]
    }
   ],
   "source": [
    "def str_to_ascii(text):\n",
    "    \n",
    "    # This method converts string to a list of each characters corresponding ascii number.\n",
    "\n",
    "    return [ord(x) for x in [char for char in text] ]\n",
    "\n",
    "\n",
    "print(str_to_ascii(\"hello world\"))"
   ]
  },
  {
   "cell_type": "code",
   "execution_count": null,
   "metadata": {},
   "outputs": [],
   "source": [
    "import subprocess\n",
    "\n",
    "def powershell_exe(destination_of_script,destination_of_file):\n",
    "\n",
    "    # This method can execute powershell scripts \n",
    "    # located in both .txt and .ps1 files\n",
    "    # \n",
    "    # destination_of_script = where file containing the script is located\n",
    "    # destination_of_file = in which file to return output \n",
    "\n",
    "    script = open(destination_of_script , \"r\") \n",
    "    p1 = subprocess.run([\"powershell.exe\", script.read()], capture_output=True, text=True)\n",
    "    return destination_of_file.write(p1.stdout)  \n"
   ]
  },
  {
   "cell_type": "code",
   "execution_count": null,
   "metadata": {},
   "outputs": [],
   "source": [
    "import os\n",
    "\n",
    "def script_runner(script_folder_loction, output_file_location):\n",
    "    \n",
    "    # This method iterates through the script folder. \n",
    "    # It then uses the Powershell_exe() method to execute each file.\n",
    "\n",
    "    # script_folder_loction = Location where all powershell scripts are stored.\n",
    "    # output_file_location = The location of the log file.\n",
    "\n",
    "    for filename in os.listdir(script_folder_loction):\n",
    "        if filename.endswith(\".txt\") or filename.endswith(\".ps1\"): \n",
    "            \n",
    "            # scrit = path to a script file\n",
    "            script = os.path.join(script_folder_loction, filename)\n",
    "\n",
    "            # The Powershell_exe() method is now used to execute te \"script\" file.\n",
    "            Powershell_exe(script,output_file_location)\n",
    "\n",
    "            continue\n",
    "        else:\n",
    "            continue\n",
    "            "
   ]
  },
  {
   "cell_type": "code",
   "execution_count": null,
   "metadata": {},
   "outputs": [],
   "source": [
    "import os\n",
    "\n",
    "def maintainer(file_name,num_of_files):\n",
    "\n",
    "    # This method is used to calculate the amount of files in a folder. \n",
    "    # And remove the oldest files if there are to many.\n",
    "\n",
    "    # file_name = Name of folder containing the files.\n",
    "    # num_of_files = Number of files allowed in folder.\n",
    "\n",
    "    while True:\n",
    "\n",
    "        file_count = sum([len(files) for r, d, files in os.walk(file_name)]) #Counts number of files in folder\n",
    "\n",
    "        if file_count > num_of_files:\n",
    "            \n",
    "            # The following code is used to determin the oldest file in the folder\n",
    "            path = file_name\n",
    "            os.chdir(path)\n",
    "            files = sorted(os.listdir(os.getcwd()), key=os.path.getmtime)\n",
    "\n",
    "            oldest_file = files[0]\n",
    "            # newest_file = files[-1]\n",
    "\n",
    "            os.remove(oldest_file) # Removes oldest file\n",
    "\n",
    "        else:\n",
    "            break\n",
    "            "
   ]
  },
  {
   "cell_type": "code",
   "execution_count": null,
   "metadata": {},
   "outputs": [],
   "source": [
    "\n",
    "def hedwig_protocol(listen_or_take, file_name, take_this):\n",
    "    \n",
    "    # THERE ARE TWO PARTS TO THIS CODE:\n",
    "    # -------------------------------------------------------------------------------------\n",
    "    # \n",
    "    # LISTEN:\n",
    "    # This code is ment to be placed in a continues while loop.\n",
    "    # If \"listen\" is selected the code will monitors a specific folder.\n",
    "    # If there are text files inside, it will choose the oldest one and return the output.\n",
    "    # Following this it will also remove the file.\n",
    "    # \n",
    "    # listen_or_take = \"listen\"\n",
    "    # filename = The file path of the file you are monitoring.\n",
    "    # take_this = \"\"\n",
    "    # \n",
    "    # -------------------------------------------------------------------------------------\n",
    "    # \n",
    "    # TAKE:\n",
    "    # Code creates a file with text inside.\n",
    "    # \n",
    "    # listen_or_take = \"take\"\n",
    "    # filename = The file path of the file you want to create.\n",
    "    # take_this = The text you want to write to the file.\n",
    "    # \n",
    "    # -------------------------------------------------------------------------------------\n",
    "    \n",
    "    import os\n",
    "    import time\n",
    "\n",
    "    if listen_or_take == \"listen\":\n",
    "\n",
    "        try:\n",
    "\n",
    "            # Counts number of files in folder.\n",
    "            file_count = sum([len(files) for r, d, files in os.walk(file_name)])\n",
    "\n",
    "            if file_count > 0:\n",
    "\n",
    "                # The following code is used to determine the oldest file in the folder.\n",
    "                path = file_name\n",
    "                os.chdir(path)\n",
    "                files = sorted(os.listdir(os.getcwd()), key=os.path.getmtime)\n",
    "\n",
    "                oldest_file = files[0]\n",
    "                # newest_file = files[-1]\n",
    "\n",
    "                # now do something with the oldes file....\n",
    "                fr = open(oldest_file)\n",
    "                text = fr.read()\n",
    "                fr.close()\n",
    "\n",
    "                os.remove(oldest_file)  # Removes oldest file.\n",
    "\n",
    "                # print(text)\n",
    "                return text\n",
    "\n",
    "        except:\n",
    "            # When a file is being copied while the Hedwig_protocol is running\n",
    "            # it can cause and error, a delay helps with this.\n",
    "            time.sleep(1)\n",
    "\n",
    "    elif listen_or_take == \"take\":\n",
    "\n",
    "        # WRITE TO A FILE\n",
    "        fw = open(file_name, 'w')\n",
    "        fw.write(take_this)\n",
    "        fw.close()\n",
    "\n",
    "# Example of the LISTEN version of this code.\n",
    "# \n",
    "# while True:\n",
    "#     hp = hedwig_protocol(\"listen\", \"C:\\\\Users\\\\chris\\\\OneDrive\\\\Codes\\\\Python\\\\PythonProjects\\\\Post_Office\\\\owlery\",\"\")\n",
    "#     print(hp)\n",
    "\n",
    "\n",
    "# Example of the TAKE version of this code.\n",
    "# \n",
    "# hedwig_protocol(\"take\", \"C:\\\\Users\\\\chris\\\\OneDrive\\\\Codes\\\\Python\\\\PythonProjects\\\\Post_Office\\\\owlery\\\\new.txt\",\"sup brue\")"
   ]
  },
  {
   "cell_type": "code",
   "execution_count": null,
   "metadata": {},
   "outputs": [],
   "source": [
    "def log_history(file_name, take_this):\n",
    "\n",
    "    # Append text to a file\n",
    "    fw = open(file_name, 'a')\n",
    "    fw.write(\"\\n\" + take_this)\n",
    "    fw.close()"
   ]
  },
  {
   "cell_type": "code",
   "execution_count": null,
   "metadata": {},
   "outputs": [],
   "source": [
    "def config_handler(start_text, end_text, config_file):\n",
    "    \n",
    "    # The following code is designed to import text from a config file.\n",
    "    # It's designed to do this line by line.\n",
    "    # start_text: The program will start importing after this point.\n",
    "    # end_text: The program will stop importing when it reaches this point.\n",
    "    # config_file: location where config file is stored.\n",
    "    \n",
    "    fr = open(config_file, 'r')\n",
    "    text = fr.read()\n",
    "    start = text.find(start_text) + len(start_text + \"\\n\")\n",
    "    end = text.find(\"\\n\" + end_text)\n",
    "    substring = text[start:end]\n",
    "    fr.close()\n",
    "\n",
    "    return substring"
   ]
  },
  {
   "cell_type": "code",
   "execution_count": 1,
   "metadata": {},
   "outputs": [
    {
     "name": "stdout",
     "output_type": "stream",
     "text": [
      "48:F1:7F:84:0F:A7\n"
     ]
    }
   ],
   "source": [
    "def localmac():\n",
    "\n",
    "    #  This Method returns your MAC address.\n",
    "    \n",
    "    import uuid\n",
    "\n",
    "    localMac = (':'.join(['{:02x}'.format((uuid.getnode() >> ele) & 0xff)\n",
    "                          for ele in range(0, 8 * 6, 8)][::-1]))\n",
    "    localMac = localMac.upper()\n",
    "\n",
    "    return localMac\n",
    "\n",
    "print(LocalMAC())"
   ]
  }
 ],
 "metadata": {
  "kernelspec": {
   "display_name": "Python 3",
   "language": "python",
   "name": "python3"
  },
  "language_info": {
   "codemirror_mode": {
    "name": "ipython",
    "version": 3
   },
   "file_extension": ".py",
   "mimetype": "text/x-python",
   "name": "python",
   "nbconvert_exporter": "python",
   "pygments_lexer": "ipython3",
   "version": "3.7.4"
  }
 },
 "nbformat": 4,
 "nbformat_minor": 4
}
